{
 "cells": [
  {
   "cell_type": "markdown",
   "metadata": {},
   "source": [
    "# Assignment group 2: Network and exploratory data analysis"
   ]
  },
  {
   "cell_type": "markdown",
   "metadata": {},
   "source": [
    "## Module C _(40 pts)_ Exploring a network of ingredients\n",
    "In This section we're going to experiment with some recipes data, but think of them as a network. These data can be obtained from Kaggle:\n",
    "\n",
    "- https://www.kaggle.com/kaggle/recipe-ingredients-dataset\n",
    "\n",
    "and are packaged with the assignment in the following directory:\n",
    "\n",
    "- `./data/train.json`"
   ]
  },
  {
   "cell_type": "code",
   "execution_count": 1,
   "metadata": {},
   "outputs": [],
   "source": [
    "#Libraries in use:\n",
    "from pprint import pprint\n",
    "from collections import defaultdict\n",
    "import json\n",
    "import networkx as nx\n",
    "import numpy as np\n",
    "from collections import Counter\n",
    "import matplotlib.pyplot as plt"
   ]
  },
  {
   "cell_type": "markdown",
   "metadata": {},
   "source": [
    "__C1.__ _(2 pts)_ To start, load the recipe data from `json` format and print the first 5 recipes."
   ]
  },
  {
   "cell_type": "code",
   "execution_count": 2,
   "metadata": {},
   "outputs": [],
   "source": [
    "with open('data/train.json', 'r') as f:\n",
    "    recipes = json.load(f)"
   ]
  },
  {
   "cell_type": "code",
   "execution_count": 3,
   "metadata": {},
   "outputs": [
    {
     "name": "stdout",
     "output_type": "stream",
     "text": [
      "[{'cuisine': 'greek',\n",
      "  'id': 10259,\n",
      "  'ingredients': ['romaine lettuce',\n",
      "                  'black olives',\n",
      "                  'grape tomatoes',\n",
      "                  'garlic',\n",
      "                  'pepper',\n",
      "                  'purple onion',\n",
      "                  'seasoning',\n",
      "                  'garbanzo beans',\n",
      "                  'feta cheese crumbles']},\n",
      " {'cuisine': 'southern_us',\n",
      "  'id': 25693,\n",
      "  'ingredients': ['plain flour',\n",
      "                  'ground pepper',\n",
      "                  'salt',\n",
      "                  'tomatoes',\n",
      "                  'ground black pepper',\n",
      "                  'thyme',\n",
      "                  'eggs',\n",
      "                  'green tomatoes',\n",
      "                  'yellow corn meal',\n",
      "                  'milk',\n",
      "                  'vegetable oil']},\n",
      " {'cuisine': 'filipino',\n",
      "  'id': 20130,\n",
      "  'ingredients': ['eggs',\n",
      "                  'pepper',\n",
      "                  'salt',\n",
      "                  'mayonaise',\n",
      "                  'cooking oil',\n",
      "                  'green chilies',\n",
      "                  'grilled chicken breasts',\n",
      "                  'garlic powder',\n",
      "                  'yellow onion',\n",
      "                  'soy sauce',\n",
      "                  'butter',\n",
      "                  'chicken livers']},\n",
      " {'cuisine': 'indian',\n",
      "  'id': 22213,\n",
      "  'ingredients': ['water', 'vegetable oil', 'wheat', 'salt']},\n",
      " {'cuisine': 'indian',\n",
      "  'id': 13162,\n",
      "  'ingredients': ['black pepper',\n",
      "                  'shallots',\n",
      "                  'cornflour',\n",
      "                  'cayenne pepper',\n",
      "                  'onions',\n",
      "                  'garlic paste',\n",
      "                  'milk',\n",
      "                  'butter',\n",
      "                  'salt',\n",
      "                  'lemon juice',\n",
      "                  'water',\n",
      "                  'chili powder',\n",
      "                  'passata',\n",
      "                  'oil',\n",
      "                  'ground cumin',\n",
      "                  'boneless chicken skinless thigh',\n",
      "                  'garam masala',\n",
      "                  'double cream',\n",
      "                  'natural yogurt',\n",
      "                  'bay leaf']}]\n",
      "39774\n"
     ]
    }
   ],
   "source": [
    "pprint(recipes[:5])\n",
    "print(len(recipes))\n",
    "#it is a list of dictionaries with cuisines names, ids and ingredients and it has 39774 recipies"
   ]
  },
  {
   "cell_type": "markdown",
   "metadata": {},
   "source": [
    "__C2.__ _(5 pts)_ Build an _undirected_ network representation of the ingredients data using the NetworkX module using the `.Graph()` graph type. "
   ]
  },
  {
   "cell_type": "markdown",
   "metadata": {},
   "source": [
    "<font color=blue>Make a more suitable data structure for the recipes to make a network:</font>"
   ]
  },
  {
   "cell_type": "code",
   "execution_count": 4,
   "metadata": {},
   "outputs": [],
   "source": [
    "recipes_dict = defaultdict(list) #data structure is a dict with id as keys and ingredients as values:\n",
    "for eachrecipe in recipes:\n",
    "    recipes_dict[eachrecipe['id']] = np.array(eachrecipe['ingredients'])"
   ]
  },
  {
   "cell_type": "code",
   "execution_count": 5,
   "metadata": {},
   "outputs": [],
   "source": [
    "G = nx.Graph(recipes_dict) #initiate the graph"
   ]
  },
  {
   "cell_type": "code",
   "execution_count": 6,
   "metadata": {},
   "outputs": [],
   "source": [
    "#G.add_nodes_from(recipes_dict.keys()) #nodes\n",
    "#for k, v in recipes_dict.items(): #edges\n",
    "#    G.add_edges_from(([(k, t) for t in v]))"
   ]
  },
  {
   "cell_type": "markdown",
   "metadata": {},
   "source": [
    "__C3.__ _(8 pts)_ Utilize NetworkX and the ingredients network and find the node degrees, i.e., numbers of connections to other ingredients across the recipes. Use this to compute the network's average and median degrees, and to print the top $5$ ingredients by degree. Discuss this output and how it helps you to understand if you've constructed the network correctly."
   ]
  },
  {
   "cell_type": "markdown",
   "metadata": {},
   "source": [
    "<font color=blue>The degree is the sum of the edge weights adjacent to the node. Mean of the degrees is the average number of edges which shows the average density of the graph. Median is the middle point of the edge numbers. Based on the values of the mean and median it semms like that most of the recipes have more than 10 ingredients.</font>"
   ]
  },
  {
   "cell_type": "code",
   "execution_count": 7,
   "metadata": {},
   "outputs": [],
   "source": [
    "mean_degree = np.mean(np.array([elem[1] for elem in G.degree]))\n",
    "median_degree = np.median(np.array([elem[1] for elem in G.degree]))"
   ]
  },
  {
   "cell_type": "code",
   "execution_count": 8,
   "metadata": {},
   "outputs": [
    {
     "name": "stdout",
     "output_type": "stream",
     "text": [
      "Mean degree is: 18.42406642574428\n",
      "Median degree is: 10.0\n"
     ]
    }
   ],
   "source": [
    "print(\"Mean degree is: \"+str(mean_degree))\n",
    "print(\"Median degree is: \"+str(median_degree))"
   ]
  },
  {
   "cell_type": "code",
   "execution_count": 9,
   "metadata": {},
   "outputs": [
    {
     "name": "stdout",
     "output_type": "stream",
     "text": [
      "[('salt', 18048),\n",
      " ('onions', 7972),\n",
      " ('olive oil', 7971),\n",
      " ('water', 7457),\n",
      " ('garlic', 7380)]\n"
     ]
    }
   ],
   "source": [
    "pprint(sorted(G.degree, key=lambda x: x[1], reverse = True)[:5])"
   ]
  },
  {
   "cell_type": "markdown",
   "metadata": {},
   "source": [
    "__C4.__ _(7 pts)_ Now, for each degree $k$ your job is to count up the number of nodes $n_k$ that have degree $k$. Store the unique values of $k$ in a list called `degree_numbers` and the corresponding values $n_k$ in a list called `degree_counts`. Sort these two lists in order of decreasing $k$ and print the five most common degree numbers.\n",
    "\n",
    "Comment on the top five most common degree numbers (the mode) and any difference in these values from the average and median degrees, reported in __C3__ in the response box below. Do you believe these data are skewed?\n",
    "\n",
    "\\[Hint: `from collections import Counter` for an object type that will make the counting and sorting processes very easy when starting from a list of `degrees`.\\] "
   ]
  },
  {
   "cell_type": "markdown",
   "metadata": {},
   "source": [
    "<font color=blue>Mode values are very close to average/median which is predictable. It means most of the data are around the middle point. Since we have outliers that are very far from the average, i.e salt or onions, the median is a better estimate for the middle point than the average. That is why the mode values are closer to the median. The data is skewed to the right.</font>"
   ]
  },
  {
   "cell_type": "code",
   "execution_count": 10,
   "metadata": {},
   "outputs": [],
   "source": [
    "degree_num_list = [item[1] for item in G.degree]\n",
    "degree_numbers = sorted(list(set(degree_num_list)), reverse = True)"
   ]
  },
  {
   "cell_type": "code",
   "execution_count": 11,
   "metadata": {},
   "outputs": [],
   "source": [
    "counter_degree = Counter(item for item in degree_num_list)\n",
    "degree_counts_unsorted = []\n",
    "for eachk in degree_numbers:\n",
    "    degree_counts_unsorted.append(counter_degree[eachk])  "
   ]
  },
  {
   "cell_type": "code",
   "execution_count": 12,
   "metadata": {},
   "outputs": [],
   "source": [
    "degree_counts = sorted(degree_counts_unsorted, reverse = True)"
   ]
  },
  {
   "cell_type": "code",
   "execution_count": 13,
   "metadata": {},
   "outputs": [
    {
     "data": {
      "text/plain": [
       "[18048, 7972, 7971, 7457, 7380]"
      ]
     },
     "execution_count": 13,
     "metadata": {},
     "output_type": "execute_result"
    }
   ],
   "source": [
    "degree_numbers[:5] #five highest degrees:"
   ]
  },
  {
   "cell_type": "code",
   "execution_count": 14,
   "metadata": {},
   "outputs": [
    {
     "data": {
      "text/plain": [
       "[3891, 3807, 3688, 3605, 3501]"
      ]
     },
     "execution_count": 14,
     "metadata": {},
     "output_type": "execute_result"
    }
   ],
   "source": [
    "degree_counts[:5] #frequency of the most frequent degree number"
   ]
  },
  {
   "cell_type": "code",
   "execution_count": 15,
   "metadata": {},
   "outputs": [],
   "source": [
    "mode_degree = sorted(counter_degree, key=counter_degree.get, reverse=True)[:5]"
   ]
  },
  {
   "cell_type": "code",
   "execution_count": 16,
   "metadata": {},
   "outputs": [
    {
     "data": {
      "text/plain": [
       "[9, 10, 8, 11, 7]"
      ]
     },
     "execution_count": 16,
     "metadata": {},
     "output_type": "execute_result"
    }
   ],
   "source": [
    "mode_degree"
   ]
  },
  {
   "cell_type": "markdown",
   "metadata": {},
   "source": [
    "__C5.__ _(5 pts)_ Your next job is to visualize the `degree_numbers` and `degree_counts` data. In particular, create a scatter plot of the _logarithms_ of these values, using the numpy utility `np.log10()` on each. \n",
    "\n",
    "When you've generated the visualization, complete with labels for both axes, describe any visual trends that you see in the markdown box below. Do the two (transformed) quantities appear to exhibit a relationship?"
   ]
  },
  {
   "cell_type": "markdown",
   "metadata": {},
   "source": [
    "<font color=blue>As predicted the maximum frequency is at degree of 10(median)[log 10 = 1] and as the degree increases, the frquency drops to lower values. We can also see the data is skewed to the right due to the tail on the right side.</font>"
   ]
  },
  {
   "cell_type": "code",
   "execution_count": 17,
   "metadata": {},
   "outputs": [
    {
     "data": {
      "image/png": "[encoded data removed]",
      "text/plain": [
       "<Figure size 720x360 with 1 Axes>"
      ]
     },
     "metadata": {},
     "output_type": "display_data"
    }
   ],
   "source": [
    "## set the figure dimensions\n",
    "scat_fig = plt.figure(figsize = (10, 5))\n",
    "## make a scatter plot\n",
    "_  = plt.scatter(\n",
    "    np.log10(np.array(degree_numbers)), np.log10(np.array(degree_counts_unsorted)), \n",
    "    color = \"blue\", s = 10, alpha = 0.5)\n",
    "## Set the tick and label fontsize\n",
    "plt.tick_params(labelsize = 12)\n",
    "## Set the title\n",
    "_ = plt.title(\"Graph Degree Numbers VS. Frequency \", fontsize = 12)\n",
    "## Set the y-label\n",
    "_ = plt.ylabel(\"Log Scale: Frequency of Degree\", fontsize = 12)\n",
    "## Set the y-label\n",
    "_ = plt.xlabel(\"Log Scale: Degree Number\", fontsize = 12)\n",
    "_ = plt.grid()"
   ]
  },
  {
   "cell_type": "markdown",
   "metadata": {},
   "source": [
    "__C6.__ _(3 pts)_ For a give node $u$ in our network $G$, let $\\Gamma(u)$ denote the set of $u$'s neighbors, i.e., set of nodes linked to $u$.\n",
    "\n",
    "In this part of the assignment we'll be utilizing the Jaccard coefficient (__Chapter 3.1.5.2__) similarity function on neighborhoods of nodes to determine the foods most likely to link to one anothers, i.e., appear in a recipe together heretofore unseen.\n",
    "\n",
    "In particular, the Jaccard coefficient of nodes $u$ and $v$ is defined as\n",
    "\n",
    "$$\\frac{|\\Gamma(u) \\cap \\Gamma(v)|}{|\\Gamma(u) \\cup \\Gamma(v)|}$$\n",
    "\n",
    "where $\\Gamma(u)$ denotes the set of neighbors of $u$ and can be computed through networkx utilizing the `nx.jaccard_coefficient(G, ebunch=None)` utility.\n",
    "\n",
    "To begin, apply the `nx.jaccard_coefficient()` function to a few seemingly dispirate and a few seemingly similar ingredients (to your sensibilities). Once this is done, remark on the function of the measure in the response box below. Does this measure work as expected?"
   ]
  },
  {
   "cell_type": "markdown",
   "metadata": {},
   "source": [
    "<font color=blue>This does not work like similarity. The coefficient is higher if the probability of using both ingredients in one recipe is high. In this case, salt and pepper have larger coefficient than oil and butter.</font> "
   ]
  },
  {
   "cell_type": "code",
   "execution_count": 18,
   "metadata": {},
   "outputs": [],
   "source": [
    "jaccard_coefficient = list(nx.jaccard_coefficient(G, \n",
    "                         [('pepper', 'salt'), ('double cream', 'bay leaf'), \n",
    "                          ('butter', 'oil'), ('purple onion', 'onions'), \n",
    "                          ('olive oil', 'onions'), ('onions', 'salt')]))"
   ]
  },
  {
   "cell_type": "code",
   "execution_count": 19,
   "metadata": {},
   "outputs": [
    {
     "name": "stdout",
     "output_type": "stream",
     "text": [
      "pepper and salt:0.20620105138933592\n",
      "double cream and bay leaf:0.0011389521640091116\n",
      "butter and oil:0.019898264512268102\n",
      "purple onion and onions:0.005604809945990013\n",
      "olive oil and onions:0.16067268491555037\n",
      "onions and salt:0.20307009432217496\n"
     ]
    }
   ],
   "source": [
    "for u, v, p in jaccard_coefficient:\n",
    "    print(u +\" and \" + v + \":\" + str(p))"
   ]
  },
  {
   "cell_type": "markdown",
   "metadata": {},
   "source": [
    "__C7.__ _(5 pts)_ Next, create a list of node `names` using the `G.nodes()` method and corresponding adjacency matrtix from `nx.to_numpy_matrx()`. With these, create a function called `unlinked(v)` that returns a list of the names of all other nodes (ingredients) for which the node (queried ingredient) $v$ shares no link. \n",
    "\n",
    "Compare the size of outputs from this function when the two nodes `'salt'` and `'chocolate'` are queried, and comment in the response box below. Does the output make sense?"
   ]
  },
  {
   "cell_type": "markdown",
   "metadata": {},
   "source": [
    "<font color=blue>Length of the output for chocolate is much more than it taht of salt because salt is a more common ingredient and has less unlinked nodes. So it makes sense!</font> "
   ]
  },
  {
   "cell_type": "code",
   "execution_count": 20,
   "metadata": {},
   "outputs": [],
   "source": [
    "names = [x for x in G.nodes()]"
   ]
  },
  {
   "cell_type": "code",
   "execution_count": 21,
   "metadata": {},
   "outputs": [
    {
     "data": {
      "text/plain": [
       "46488"
      ]
     },
     "execution_count": 21,
     "metadata": {},
     "output_type": "execute_result"
    }
   ],
   "source": [
    "len(names)"
   ]
  },
  {
   "cell_type": "code",
   "execution_count": 22,
   "metadata": {},
   "outputs": [
    {
     "data": {
      "text/plain": [
       "[10259, 25693, 20130, 22213, 13162, 6602, 42779, 3735, 16903, 12734]"
      ]
     },
     "execution_count": 22,
     "metadata": {},
     "output_type": "execute_result"
    }
   ],
   "source": [
    "names[:10] #ids"
   ]
  },
  {
   "cell_type": "code",
   "execution_count": 23,
   "metadata": {},
   "outputs": [
    {
     "data": {
      "text/plain": [
       "['Oscar Mayer Cotto Salami',\n",
       " 'Challenge Butter',\n",
       " 'orange glaze',\n",
       " 'cholesterol free egg substitute',\n",
       " 'ciabatta loaf',\n",
       " 'Lipton® Iced Tea Brew Family Size Tea Bags',\n",
       " 'Hidden Valley® Greek Yogurt Original Ranch® Dip Mix',\n",
       " 'lop chong',\n",
       " 'tomato garlic pasta sauce',\n",
       " 'crushed cheese crackers']"
      ]
     },
     "execution_count": 23,
     "metadata": {},
     "output_type": "execute_result"
    }
   ],
   "source": [
    "names[-10:] #ingredients"
   ]
  },
  {
   "cell_type": "code",
   "execution_count": 24,
   "metadata": {},
   "outputs": [],
   "source": [
    "adj_matrix_G = nx.to_numpy_matrix(G)"
   ]
  },
  {
   "cell_type": "code",
   "execution_count": 25,
   "metadata": {},
   "outputs": [
    {
     "data": {
      "text/plain": [
       "matrix([[0., 0., 0., ..., 0., 0., 0.],\n",
       "        [0., 0., 0., ..., 0., 0., 0.],\n",
       "        [0., 0., 0., ..., 0., 0., 0.],\n",
       "        ...,\n",
       "        [0., 0., 0., ..., 0., 0., 0.],\n",
       "        [0., 0., 0., ..., 0., 0., 0.],\n",
       "        [0., 0., 0., ..., 0., 0., 0.]])"
      ]
     },
     "execution_count": 25,
     "metadata": {},
     "output_type": "execute_result"
    }
   ],
   "source": [
    "adj_matrix_G"
   ]
  },
  {
   "cell_type": "code",
   "execution_count": 26,
   "metadata": {},
   "outputs": [
    {
     "data": {
      "text/plain": [
       "856498"
      ]
     },
     "execution_count": 26,
     "metadata": {},
     "output_type": "execute_result"
    }
   ],
   "source": [
    "np.count_nonzero(adj_matrix_G)"
   ]
  },
  {
   "cell_type": "code",
   "execution_count": 31,
   "metadata": {},
   "outputs": [
    {
     "data": {
      "text/plain": [
       "(46488, 46488)"
      ]
     },
     "execution_count": 31,
     "metadata": {},
     "output_type": "execute_result"
    }
   ],
   "source": [
    "adj_matrix_G.shape"
   ]
  },
  {
   "cell_type": "code",
   "execution_count": 47,
   "metadata": {},
   "outputs": [],
   "source": [
    "def unlinked(v):\n",
    "    row = names.index(v)\n",
    "    unlinked_list = []\n",
    "    for i, elem in enumerate(adj_matrix_G[row].tolist()[0]):\n",
    "        if elem: #non-zero\n",
    "            pass\n",
    "        else: #zero\n",
    "            unlinked_list.append(names[i])\n",
    "    return unlinked_list"
   ]
  },
  {
   "cell_type": "code",
   "execution_count": 48,
   "metadata": {},
   "outputs": [
    {
     "data": {
      "text/plain": [
       "28440"
      ]
     },
     "execution_count": 48,
     "metadata": {},
     "output_type": "execute_result"
    }
   ],
   "source": [
    "len(unlinked('salt'))"
   ]
  },
  {
   "cell_type": "code",
   "execution_count": 49,
   "metadata": {},
   "outputs": [
    {
     "data": {
      "text/plain": [
       "46444"
      ]
     },
     "execution_count": 49,
     "metadata": {},
     "output_type": "execute_result"
    }
   ],
   "source": [
    "len(unlinked('chocolate'))"
   ]
  },
  {
   "cell_type": "markdown",
   "metadata": {},
   "source": [
    "__C8.__ _(5 pts)_ Finally, write a function called `likely_ingredients(v)` that computes the Jaccard coefficients for all nodes returned by our previous functiton, i.e., from calling `unlinked(v)`. Return the these ingredient pairs and coefficients sorted by the coefficient values and print the top $5$ hits for a few different examples. \n",
    "\n",
    "Finally, in the response box below address the following question\n",
    "\n",
    "> Do you think this analysis provides information more usefule for determining substitutions, for constructing new recipes pairings? Do you htink this could support either or both interests, and if so, how?"
   ]
  },
  {
   "cell_type": "markdown",
   "metadata": {},
   "source": [
    "<font color=blue>The analysis succesfully gives similar ingredients for substitutions and also it is suitable for constructing new recipes because we look for unlinked ingredients and find the most similar ones which gives us a chance for new combinations.</font> "
   ]
  },
  {
   "cell_type": "code",
   "execution_count": 52,
   "metadata": {},
   "outputs": [],
   "source": [
    "def likely_ingredients(v):\n",
    "    jaccard_pairs = []\n",
    "    unlinked_ings = unlinked(v)\n",
    "    jaccard = list(nx.jaccard_coefficient(G, [(v, x) for x in unlinked_ings]))\n",
    "    for node, othernode, p in jaccard:\n",
    "        jaccard_pairs.append((node, othernode, p))\n",
    "    sorted_jaccard_pairs = sorted(jaccard_pairs, key=lambda x: x[2], reverse = True)\n",
    "    return sorted_jaccard_pairs"
   ]
  },
  {
   "cell_type": "code",
   "execution_count": 55,
   "metadata": {},
   "outputs": [],
   "source": [
    "likely_chocolate = likely_ingredients('chocolate')[1:6] #first one is always the node itself!"
   ]
  },
  {
   "cell_type": "code",
   "execution_count": 57,
   "metadata": {},
   "outputs": [
    {
     "name": "stdout",
     "output_type": "stream",
     "text": [
      "[('chocolate', 'mezcal', 0.043478260869565216),\n",
      " ('chocolate', 'fat free frozen top whip', 0.03773584905660377),\n",
      " ('chocolate', 'cocoa', 0.03571428571428571),\n",
      " ('chocolate', 'cocoa powder', 0.0297029702970297),\n",
      " ('chocolate', 'Guinness Beer', 0.029411764705882353)]\n"
     ]
    }
   ],
   "source": [
    "pprint(likely_chocolate)"
   ]
  },
  {
   "cell_type": "code",
   "execution_count": 58,
   "metadata": {},
   "outputs": [],
   "source": [
    "likely_chicken = likely_ingredients('chicken')[1:6] #first one is always the node itself!"
   ]
  },
  {
   "cell_type": "code",
   "execution_count": 59,
   "metadata": {},
   "outputs": [
    {
     "name": "stdout",
     "output_type": "stream",
     "text": [
      "[('chicken', 'onions', 0.04092071611253197),\n",
      " ('chicken', 'ginger', 0.03831562974203338),\n",
      " ('chicken', 'bay leaves', 0.03806584362139918),\n",
      " ('chicken', 'clove', 0.03805774278215223),\n",
      " ('chicken', 'chicken broth', 0.03764320785597381)]\n"
     ]
    }
   ],
   "source": [
    "pprint(likely_chicken)"
   ]
  },
  {
   "cell_type": "code",
   "execution_count": null,
   "metadata": {},
   "outputs": [],
   "source": []
  }
 ],
 "metadata": {
  "kernelspec": {
   "display_name": "Python 3",
   "language": "python",
   "name": "python3"
  },
  "language_info": {
   "codemirror_mode": {
    "name": "ipython",
    "version": 3
   },
   "file_extension": ".py",
   "mimetype": "text/x-python",
   "name": "python",
   "nbconvert_exporter": "python",
   "pygments_lexer": "ipython3",
   "version": "3.6.5"
  }
 },
 "nbformat": 4,
 "nbformat_minor": 2
}
