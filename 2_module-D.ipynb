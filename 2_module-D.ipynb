{
 "cells": [
  {
   "cell_type": "markdown",
   "metadata": {},
   "source": [
    "# Assignment group 2: Network and exploratory data analysis"
   ]
  },
  {
   "cell_type": "markdown",
   "metadata": {},
   "source": [
    "## Module D _(40 pts)_ An ingredient-based recommender system\n",
    "In this module we're going to build a recommender system using some recipes data and the Apriori algorithm. These data can be obtained from Kaggle:\n",
    "\n",
    "- https://www.kaggle.com/kaggle/recipe-ingredients-dataset\n",
    "\n",
    "and are packaged with the assignment in the following directory:\n",
    "\n",
    "- `./data/train.json`"
   ]
  },
  {
   "cell_type": "code",
   "execution_count": 1,
   "metadata": {},
   "outputs": [],
   "source": [
    "#Libraries in use:\n",
    "from pprint import pprint\n",
    "from collections import Counter\n",
    "import json\n",
    "from itertools import combinations"
   ]
  },
  {
   "cell_type": "markdown",
   "metadata": {},
   "source": [
    "__D1.__ _(2 pts)_ To start, load the recipe data from `json` format and print the first 5 recipes."
   ]
  },
  {
   "cell_type": "code",
   "execution_count": 2,
   "metadata": {},
   "outputs": [
    {
     "name": "stdout",
     "output_type": "stream",
     "text": [
      "[{'cuisine': 'greek',\n",
      "  'id': 10259,\n",
      "  'ingredients': ['romaine lettuce',\n",
      "                  'black olives',\n",
      "                  'grape tomatoes',\n",
      "                  'garlic',\n",
      "                  'pepper',\n",
      "                  'purple onion',\n",
      "                  'seasoning',\n",
      "                  'garbanzo beans',\n",
      "                  'feta cheese crumbles']},\n",
      " {'cuisine': 'southern_us',\n",
      "  'id': 25693,\n",
      "  'ingredients': ['plain flour',\n",
      "                  'ground pepper',\n",
      "                  'salt',\n",
      "                  'tomatoes',\n",
      "                  'ground black pepper',\n",
      "                  'thyme',\n",
      "                  'eggs',\n",
      "                  'green tomatoes',\n",
      "                  'yellow corn meal',\n",
      "                  'milk',\n",
      "                  'vegetable oil']},\n",
      " {'cuisine': 'filipino',\n",
      "  'id': 20130,\n",
      "  'ingredients': ['eggs',\n",
      "                  'pepper',\n",
      "                  'salt',\n",
      "                  'mayonaise',\n",
      "                  'cooking oil',\n",
      "                  'green chilies',\n",
      "                  'grilled chicken breasts',\n",
      "                  'garlic powder',\n",
      "                  'yellow onion',\n",
      "                  'soy sauce',\n",
      "                  'butter',\n",
      "                  'chicken livers']},\n",
      " {'cuisine': 'indian',\n",
      "  'id': 22213,\n",
      "  'ingredients': ['water', 'vegetable oil', 'wheat', 'salt']},\n",
      " {'cuisine': 'indian',\n",
      "  'id': 13162,\n",
      "  'ingredients': ['black pepper',\n",
      "                  'shallots',\n",
      "                  'cornflour',\n",
      "                  'cayenne pepper',\n",
      "                  'onions',\n",
      "                  'garlic paste',\n",
      "                  'milk',\n",
      "                  'butter',\n",
      "                  'salt',\n",
      "                  'lemon juice',\n",
      "                  'water',\n",
      "                  'chili powder',\n",
      "                  'passata',\n",
      "                  'oil',\n",
      "                  'ground cumin',\n",
      "                  'boneless chicken skinless thigh',\n",
      "                  'garam masala',\n",
      "                  'double cream',\n",
      "                  'natural yogurt',\n",
      "                  'bay leaf']}]\n",
      "39774\n"
     ]
    }
   ],
   "source": [
    "with open('data/train.json', 'r') as f:\n",
    "    recipes = json.load(f)\n",
    "pprint(recipes[:5])\n",
    "print(len(recipes))\n",
    "#it is a list of dictionaries with cuisines names, ids and ingredients and it has 39774 recipes\""
   ]
  },
  {
   "cell_type": "markdown",
   "metadata": {},
   "source": [
    "__D2.__ _(5 pts)_ Next, `from collections import Counter` to write a function called `count_items(recipes)` that counts up the number of recipes that include each `ingredient`, storing each in the counter as a single-element tuple (for downstream convienience), i.e., incrementing like `counts[tuple([ingredient])] +=1`. \n",
    "\n",
    "When complete, exhibit this functions utility in application to the `recipes` loaded in __D1__ and print the number of 'candidates' in the output."
   ]
  },
  {
   "cell_type": "code",
   "execution_count": 3,
   "metadata": {},
   "outputs": [],
   "source": [
    "CUISINE = tuple(tuple(recipe['ingredients']) for recipe in recipes)"
   ]
  },
  {
   "cell_type": "code",
   "execution_count": 4,
   "metadata": {},
   "outputs": [
    {
     "data": {
      "text/plain": [
       "('romaine lettuce',\n",
       " 'black olives',\n",
       " 'grape tomatoes',\n",
       " 'garlic',\n",
       " 'pepper',\n",
       " 'purple onion',\n",
       " 'seasoning',\n",
       " 'garbanzo beans',\n",
       " 'feta cheese crumbles')"
      ]
     },
     "execution_count": 4,
     "metadata": {},
     "output_type": "execute_result"
    }
   ],
   "source": [
    "CUISINE[0]"
   ]
  },
  {
   "cell_type": "code",
   "execution_count": 5,
   "metadata": {},
   "outputs": [],
   "source": [
    "def count_items(recipes):\n",
    "    #tuple of tuples with ingredients of each recipe\n",
    "    CUISINE = tuple(tuple(recipe['ingredients']) for recipe in recipes)\n",
    "    #############################################\n",
    "    #make a set of all the ingredients:\n",
    "    ingredients = set() #define a set to avoid duplicates\n",
    "    for eachCUISINE in CUISINE:\n",
    "        for eachelement in eachCUISINE:\n",
    "            ingredients.add(eachelement)\n",
    "    #############################################\n",
    "    #counting the recipes with each ingredient:\n",
    "    counts = Counter()\n",
    "    for each_ingredient in ingredients:\n",
    "        for recipe in CUISINE:\n",
    "            if each_ingredient in recipe:\n",
    "                counts[tuple([each_ingredient])] +=1\n",
    "    return counts"
   ]
  },
  {
   "cell_type": "code",
   "execution_count": 6,
   "metadata": {},
   "outputs": [],
   "source": [
    "candidate_counter = count_items(recipes)"
   ]
  },
  {
   "cell_type": "code",
   "execution_count": 7,
   "metadata": {},
   "outputs": [
    {
     "name": "stdout",
     "output_type": "stream",
     "text": [
      "[(('broiler',), 2),\n",
      " (('Hidden Valley® Original Ranch® Dips Mix',), 2),\n",
      " (('jerk sauce',), 6),\n",
      " (('chorizo sausage',), 103),\n",
      " (('pimenton',), 8),\n",
      " (('garlic powder',), 1442),\n",
      " (('wondra',), 1),\n",
      " (('bertolli vodka sauc made with fresh cream',), 1),\n",
      " (('pitted kalamata olives',), 204),\n",
      " (('steel-cut oats',), 7)]\n"
     ]
    }
   ],
   "source": [
    "pprint([(x, candidate_counter[x]) for x in list(candidate_counter.keys())[:10]]) \n",
    "#for display only(The structure is not what it is diplayed)"
   ]
  },
  {
   "cell_type": "code",
   "execution_count": 8,
   "metadata": {},
   "outputs": [
    {
     "name": "stdout",
     "output_type": "stream",
     "text": [
      "6714\n"
     ]
    }
   ],
   "source": [
    "print(len(list(candidate_counter.keys()))) #there are 6714 different ingredients in all recipes."
   ]
  },
  {
   "cell_type": "markdown",
   "metadata": {},
   "source": [
    "__D3.__ _(5 pts)_ Now, write a function called `store_frequent(candidates, threshold = 25)`, which accepts a `Counter` of `candidates`, i.e., item or itemset counts, and stores only those with count above the determined `threshold` value in a separate counter called `frequent`, which is `return`ed at the end of the function. Apply this function to your output from __D1__ with the default `threshold` value of `25` to exhibit your function's utility, and then print the number of frequent items found."
   ]
  },
  {
   "cell_type": "code",
   "execution_count": 9,
   "metadata": {},
   "outputs": [],
   "source": [
    "def store_frequent(candidates, threshold):\n",
    "    frequent = Counter()\n",
    "    for eachkey in list(candidates.keys()):\n",
    "        if candidates[eachkey] >= threshold:\n",
    "            frequent[eachkey] = candidates[eachkey]\n",
    "        else:\n",
    "            pass\n",
    "    return frequent"
   ]
  },
  {
   "cell_type": "code",
   "execution_count": 10,
   "metadata": {},
   "outputs": [],
   "source": [
    "frequent_candidates = store_frequent(candidate_counter, 25) #it's a dictionary with frequent ingredients as keys."
   ]
  },
  {
   "cell_type": "code",
   "execution_count": 11,
   "metadata": {},
   "outputs": [
    {
     "name": "stdout",
     "output_type": "stream",
     "text": [
      "[(('chorizo sausage',), 103),\n",
      " (('garlic powder',), 1442),\n",
      " (('pitted kalamata olives',), 204),\n",
      " (('polenta',), 148),\n",
      " (('dark brown sugar',), 319),\n",
      " (('red chili peppers',), 644),\n",
      " (('chili sauce',), 147),\n",
      " (('Belgian endive',), 38),\n",
      " (('refried beans',), 250),\n",
      " (('artichokes',), 75)]\n"
     ]
    }
   ],
   "source": [
    "pprint([(x, frequent_candidates[x]) for x in list(frequent_candidates.keys())[:10]]) \n",
    "#for display only(The structure is not what it is diplayed)"
   ]
  },
  {
   "cell_type": "code",
   "execution_count": 12,
   "metadata": {},
   "outputs": [
    {
     "name": "stdout",
     "output_type": "stream",
     "text": [
      "1486\n"
     ]
    }
   ],
   "source": [
    "print(len(list(frequent_candidates.keys()))) #there are 1486 different frequent ingredients in all recipes."
   ]
  },
  {
   "cell_type": "markdown",
   "metadata": {},
   "source": [
    "__D4.__ (10 pts) Now, write a function called `get_next(recipes, frequent, threshold = 25)` that accepts the `frequent` items output from the `store_frequent()` function. With these inputs, your function should:\n",
    "\n",
    "1. create a new `Counter` called `next_candidates`\n",
    "2. compute the `size` of the itemsets for `next_candidates` from a single key in `frequent`\n",
    "3. `for` any `recipe` with _at least_ as many ingredients as `size`:\n",
    "    1. loop over all itemsets of size `size` (see combinations note below)\n",
    "    2. utilize the apriori principle and subsets of itemsets to count up potentially-frequent candidate itemsets in `next_candidates`\n",
    "4. `return(next_candidates)` \n",
    "\n",
    "__Important__: once your code runs, apply this function to the output of __D3__, report the resulting number of `next_candidates` found, and run `store_frequent` on these to report the number of 2-itemsets that were frequent. Repeat this process to build the 3-itemsets and record in the markdown box any observations on run time for these successive applications. In the response box below reply to the following questions:\n",
    "\n",
    "- Are we generating more candidates or frequent itemsets as we look at larger sizes? \n",
    "- Why would this process become more and more computationally expensive as the size get's larger?\n",
    "    \n",
    "Note: to complete this part it is _extremely strongly_ encouraged that you import the `combinations()` function from the `itertools` module. With this, you can execute `combinations(items, k)` to find all combinations of size `k` from a list of `items`."
   ]
  },
  {
   "cell_type": "markdown",
   "metadata": {},
   "source": [
    "<font color=blue>To do this computation, we need to compare each candidate against every transaction. If the candidate is contained in a transaction, its support count will be incremented. In general, a dataset that contains k items can potentially generate up to $2^k − 1$ frequent itemsets, excluding the null set. Because k can be very large in many practical applications, the search space of itemsets that need to be explored is exponentially large. This is why doing these calulations is extensively heavy as the set gets larger. Figure below shows the lattice structure that can be used to enumerate the list of all possible itemsets for a set of $\\\\{a, b, c, d, e\\\\}$ candidates. [(ref. to here!)](https://www-users.cs.umn.edu/~kumar001/dmbook/ch6.pdf)</font><br >\n",
    "<img src=\"./lattice.png\"  width=\"400\\\" height= \"400\"/>\n",
    "<font color=blue>In this problem, the set of all the ingredients is the items and the recipes are the transactions. Each transaction has a subset of the item set. A collection of zero or more items is called the itemset. The Apriori principle is an effective way to eliminate some of the candidate itemsets without counting their support values. Instead of matching each candidate itemset against every transaction, we can reduce the number of comparisons by using more advanced data structure.</font><br>\n",
    "<img src=\"./lattice2.png\"  width=\"350\\\" height= \"350\"/>\n",
    "<font color=blue>As the size of the itemsets go up, the run time extends.</font> "
   ]
  },
  {
   "cell_type": "code",
   "execution_count": 51,
   "metadata": {},
   "outputs": [],
   "source": [
    "def get_next(recipes, frequent, threshold):\n",
    "    #########size of a single key###########\n",
    "    #initial value of size is 1:\n",
    "    size = len(list(frequent.keys())[0])\n",
    "    ########################################\n",
    "    #candidates is the counter for all possible itemsets:\n",
    "    next_candidates = Counter()\n",
    "    #go through all recipes\n",
    "    acceptable_recipes = [x for x in recipes if len(x['ingredients']) >= size+1]\n",
    "    for recipe in acceptable_recipes:\n",
    "        for comb in combinations(recipe['ingredients'], size+1):\n",
    "            if all(tuple(elem) in frequent for elem in combinations(comb, size)):\n",
    "                comb_as_keys = tuple(x for x in set(sorted(list(comb))))#the order of the ingredients is not important\n",
    "                next_candidates[comb_as_keys] += 1\n",
    "    return next_candidates       "
   ]
  },
  {
   "cell_type": "code",
   "execution_count": 52,
   "metadata": {},
   "outputs": [],
   "source": [
    "get_next_recipe_size2 = get_next(recipes, frequent_candidates, threshold  = 25)"
   ]
  },
  {
   "cell_type": "code",
   "execution_count": 53,
   "metadata": {},
   "outputs": [],
   "source": [
    "frequent_candidates_size2 = store_frequent(get_next_recipe_size2, 25)"
   ]
  },
  {
   "cell_type": "markdown",
   "metadata": {},
   "source": [
    "**The print-out below is not sorted:**"
   ]
  },
  {
   "cell_type": "code",
   "execution_count": 54,
   "metadata": {},
   "outputs": [
    {
     "name": "stdout",
     "output_type": "stream",
     "text": [
      "[(('romaine lettuce', 'garlic'), 48),\n",
      " (('romaine lettuce', 'pepper'), 42),\n",
      " (('purple onion', 'romaine lettuce'), 74),\n",
      " (('black olives', 'garlic'), 55),\n",
      " (('black olives', 'pepper'), 30),\n",
      " (('black olives', 'purple onion'), 34),\n",
      " (('grape tomatoes', 'garlic'), 49),\n",
      " (('grape tomatoes', 'pepper'), 39),\n",
      " (('purple onion', 'grape tomatoes'), 54),\n",
      " (('garlic', 'pepper'), 1308)]\n"
     ]
    }
   ],
   "source": [
    "pprint([(x, frequent_candidates_size2[x]) for x in list(frequent_candidates_size2.keys())[:10]]) \n",
    "#for display only(The structure is not what it is diplayed)"
   ]
  },
  {
   "cell_type": "code",
   "execution_count": 55,
   "metadata": {},
   "outputs": [],
   "source": [
    "get_next_recipe_size3 = get_next(recipes, frequent_candidates_size2, threshold  = 25)"
   ]
  },
  {
   "cell_type": "code",
   "execution_count": 56,
   "metadata": {},
   "outputs": [],
   "source": [
    "frequent_candidates_size3 = store_frequent(get_next_recipe_size3, 25)"
   ]
  },
  {
   "cell_type": "markdown",
   "metadata": {},
   "source": [
    "**The print-out below is not sorted:**"
   ]
  },
  {
   "cell_type": "code",
   "execution_count": 57,
   "metadata": {},
   "outputs": [
    {
     "name": "stdout",
     "output_type": "stream",
     "text": [
      "[(('cayenne pepper', 'onions', 'salt'), 74),\n",
      " (('onions', 'butter', 'salt'), 78),\n",
      " (('onions', 'chili powder', 'oil'), 40),\n",
      " (('milk', 'butter', 'salt'), 116),\n",
      " (('water', 'chili powder', 'oil'), 26),\n",
      " (('sugar', 'butter', 'salt'), 133),\n",
      " (('eggs', 'milk', 'vanilla extract'), 30),\n",
      " (('salt', 'olive oil', 'pepper'), 244),\n",
      " (('salt', 'olive oil', 'flat leaf parsley'), 67),\n",
      " (('purple onion', 'ground black pepper', 'salt'), 46)]\n"
     ]
    }
   ],
   "source": [
    "pprint([(x, frequent_candidates_size3[x]) for x in list(frequent_candidates_size3.keys())[:10]]) \n",
    "#for display only(The structure is not what it is diplayed)"
   ]
  },
  {
   "cell_type": "markdown",
   "metadata": {},
   "source": [
    "__D5.__ (10 pts) Now that we have the pieces to run Apriori/collect frequent itemsets it's time to package the process together, collecting all frequent itemsets up to a particular `size`. To do this, write a function called `train(recipes, size = 4)`, which:\n",
    "\n",
    "1. initializes two empty dictionaries, `candidates`, and `frequent`;\n",
    "2. runs the `count_items` and `store_frequent` function, storing output in the `candidates`, and `frequent` dictionaries using the integer `1` as a key;\n",
    "3. loops over sizes: 2, 3, .., `size` to compute and store the subsequent sizes candidates and frequent itemsets in the same structure as (2), but now utilizing the `get_next` function, instead of `count_items`; and\n",
    "4. `return`s the `candidates` and `frequent` itemsets."
   ]
  },
  {
   "cell_type": "code",
   "execution_count": 58,
   "metadata": {},
   "outputs": [],
   "source": [
    "def train(recipes, size):\n",
    "    candidates = {}\n",
    "    frequent = {}\n",
    "    candidates[1] = count_items(recipes)\n",
    "    frequent[1] = store_frequent(candidates[1], 25)\n",
    "    for i in range(2, size+1):\n",
    "        candidates[i] = get_next(recipes, frequent[i-1], 0)\n",
    "        frequent[i] = store_frequent(candidates[i], 25)\n",
    "    return candidates, frequent"
   ]
  },
  {
   "cell_type": "code",
   "execution_count": 59,
   "metadata": {},
   "outputs": [],
   "source": [
    "candidates, frequent = train(recipes, size = 4)"
   ]
  },
  {
   "cell_type": "markdown",
   "metadata": {},
   "source": [
    "**These print-outs are not sorted:**"
   ]
  },
  {
   "cell_type": "code",
   "execution_count": 60,
   "metadata": {},
   "outputs": [
    {
     "name": "stdout",
     "output_type": "stream",
     "text": [
      "[(('broiler',), 2),\n",
      " (('Hidden Valley® Original Ranch® Dips Mix',), 2),\n",
      " (('jerk sauce',), 6),\n",
      " (('chorizo sausage',), 103),\n",
      " (('pimenton',), 8)]\n"
     ]
    }
   ],
   "source": [
    "pprint([(x, candidates[1][x]) for x in list(candidates[1].keys())[:5]]) \n",
    "#for display only(The structure is not what it is diplayed)"
   ]
  },
  {
   "cell_type": "code",
   "execution_count": 61,
   "metadata": {},
   "outputs": [
    {
     "name": "stdout",
     "output_type": "stream",
     "text": [
      "[(('black olives', 'romaine lettuce'), 7),\n",
      " (('romaine lettuce', 'grape tomatoes'), 16),\n",
      " (('romaine lettuce', 'garlic'), 48),\n",
      " (('romaine lettuce', 'pepper'), 42),\n",
      " (('purple onion', 'romaine lettuce'), 74)]\n"
     ]
    }
   ],
   "source": [
    "pprint([(x, candidates[2][x]) for x in list(candidates[2].keys())[:5]]) \n",
    "#for display only(The structure is not what it is diplayed)"
   ]
  },
  {
   "cell_type": "code",
   "execution_count": 62,
   "metadata": {},
   "outputs": [
    {
     "name": "stdout",
     "output_type": "stream",
     "text": [
      "[(('romaine lettuce', 'garlic', 'pepper'), 2),\n",
      " (('black olives', 'garlic', 'pepper'), 1),\n",
      " (('grape tomatoes', 'garlic', 'pepper'), 1),\n",
      " (('eggs', 'green tomatoes', 'vegetable oil'), 2),\n",
      " (('eggs', 'milk', 'vegetable oil'), 24)]\n"
     ]
    }
   ],
   "source": [
    "pprint([(x, candidates[3][x]) for x in list(candidates[3].keys())[:5]]) \n",
    "#for display only(The structure is not what it is diplayed)"
   ]
  },
  {
   "cell_type": "code",
   "execution_count": 63,
   "metadata": {},
   "outputs": [
    {
     "name": "stdout",
     "output_type": "stream",
     "text": [
      "[(('fresh basil', 'olive oil', 'garlic cloves', 'salt'), 10),\n",
      " (('sugar', 'large eggs', 'unsalted butter', 'salt'), 21),\n",
      " (('onions', 'garlic', 'celery', 'salt'), 5),\n",
      " (('onions', 'garlic', 'oil', 'salt'), 6),\n",
      " (('onions', 'ginger', 'oil', 'salt'), 4)]\n"
     ]
    }
   ],
   "source": [
    "pprint([(x, candidates[4][x]) for x in list(candidates[4].keys())[:5]]) \n",
    "#for display only(The structure is not what it is diplayed)"
   ]
  },
  {
   "cell_type": "code",
   "execution_count": 64,
   "metadata": {},
   "outputs": [
    {
     "name": "stdout",
     "output_type": "stream",
     "text": [
      "[(('chorizo sausage',), 103),\n",
      " (('garlic powder',), 1442),\n",
      " (('pitted kalamata olives',), 204),\n",
      " (('polenta',), 148),\n",
      " (('dark brown sugar',), 319)]\n"
     ]
    }
   ],
   "source": [
    "pprint([(x, frequent[1][x]) for x in list(frequent[1].keys())[:5]]) \n",
    "#for display only(The structure is not what it is diplayed)"
   ]
  },
  {
   "cell_type": "code",
   "execution_count": 65,
   "metadata": {},
   "outputs": [
    {
     "name": "stdout",
     "output_type": "stream",
     "text": [
      "[(('romaine lettuce', 'garlic'), 48),\n",
      " (('romaine lettuce', 'pepper'), 42),\n",
      " (('purple onion', 'romaine lettuce'), 74),\n",
      " (('black olives', 'garlic'), 55),\n",
      " (('black olives', 'pepper'), 30)]\n"
     ]
    }
   ],
   "source": [
    "pprint([(x, frequent[2][x]) for x in list(frequent[2].keys())[:5]]) \n",
    "#for display only(The structure is not what it is diplayed)"
   ]
  },
  {
   "cell_type": "code",
   "execution_count": 66,
   "metadata": {},
   "outputs": [
    {
     "name": "stdout",
     "output_type": "stream",
     "text": [
      "[(('cayenne pepper', 'onions', 'salt'), 74),\n",
      " (('onions', 'butter', 'salt'), 78),\n",
      " (('onions', 'chili powder', 'oil'), 40),\n",
      " (('milk', 'butter', 'salt'), 116),\n",
      " (('water', 'chili powder', 'oil'), 26)]\n"
     ]
    }
   ],
   "source": [
    "pprint([(x, frequent[3][x]) for x in list(frequent[3].keys())[:5]]) \n",
    "#for display only(The structure is not what it is diplayed)"
   ]
  },
  {
   "cell_type": "code",
   "execution_count": 67,
   "metadata": {},
   "outputs": [
    {
     "name": "stdout",
     "output_type": "stream",
     "text": [
      "[(('water', 'onions', 'olive oil', 'salt'), 28),\n",
      " (('all-purpose flour', 'sugar', 'unsalted butter', 'salt'), 29),\n",
      " (('baking powder', 'all-purpose flour', 'large eggs', 'salt'), 42),\n",
      " (('baking powder', 'all-purpose flour', 'butter', 'salt'), 32),\n",
      " (('baking powder', 'all-purpose flour', 'sugar', 'salt'), 33)]\n"
     ]
    }
   ],
   "source": [
    "pprint([(x, frequent[4][x]) for x in list(frequent[4].keys())[:5]]) \n",
    "#for display only(The structure is not what it is diplayed)"
   ]
  },
  {
   "cell_type": "markdown",
   "metadata": {},
   "source": [
    "__D5.__ _(8 pts)_ Now that we have our `frequent` itemsets up to `size`, we can utilize them to recommend missing ingredients from ingredient 'baskets' of at most `size - 1`. To do this, write a function called `recommend(basket, frequent)` that does the following: \n",
    "\n",
    "1. initializes an empty `recommendations` list\n",
    "2. loops over all frequent `itemset`s of `size 1 greater than the `basket`\n",
    "    - if there's one item left from the `itemset` when the `basket` removed, append the remaining item to the `recommendations` list in a tuple, with the number of ocurrences of the itemset in the second position\n",
    "4. `return` `recommendations`, but sorted from high to low by itemset ocurrence.\n",
    "\n",
    "Once your code is complete, report the top 10 recommended items to buy for recipe flexibility in the following scenarios:\n",
    "\n",
    "- `basket = tuple(['butter', 'flour'])`\n",
    "- `basket = tuple(['soy sauce', 'green onions'])`\n",
    "- `basket = tuple(['avocado', 'garlic', 'salt'])`\n",
    "\n",
    "and in the response box below discuss the output and the types of recipes you think the recommender is pointing you to. Does this output seem appropriate? \n",
    "\n",
    "Note: your function should additionally respond appropriately if the user requests a recommendation for a basket of size at least as big as the `size` specified in the `train()` function, i.e., it should return an error message gracefully, alerting the user to not having trained on itemsets large enough."
   ]
  },
  {
   "cell_type": "markdown",
   "metadata": {},
   "source": [
    "<font color=blue>For example if the basket is flour and butter, the recommender points us to other recipes of probably cakes and desserts. This is true for each basket. </font>"
   ]
  },
  {
   "cell_type": "code",
   "execution_count": 68,
   "metadata": {},
   "outputs": [],
   "source": [
    "def recommend(basket, frequent):\n",
    "    initial_recommendations = []\n",
    "    basket_size = len(basket)\n",
    "    if basket_size > 3:\n",
    "        print(\"Oops! I am not trained for baskets with more than three ingredients :(\")\n",
    "    else:\n",
    "        for eachitemset in list(frequent[basket_size+1].keys()):\n",
    "            remainder = tuple([x for x in tuple(eachitemset) if x not in tuple(basket)])\n",
    "            if len(remainder) == 1:\n",
    "                initial_recommendations.append((eachitemset, frequent[basket_size+1][eachitemset]))\n",
    "\n",
    "        recommendations = sorted(initial_recommendations, key = lambda tup:tup[1], reverse = True)\n",
    "        return recommendations"
   ]
  },
  {
   "cell_type": "code",
   "execution_count": 69,
   "metadata": {},
   "outputs": [],
   "source": [
    "basket1 = tuple(['butter', 'flour'])\n",
    "basket2 = tuple(['soy sauce', 'green onions'])\n",
    "basket3 = tuple(['avocado', 'garlic', 'salt'])\n",
    "basket4 = tuple(['avocado', 'garlic', 'salt', 'chicken'])"
   ]
  },
  {
   "cell_type": "code",
   "execution_count": 70,
   "metadata": {},
   "outputs": [],
   "source": [
    "recom_basket1 = recommend(basket1, frequent)"
   ]
  },
  {
   "cell_type": "code",
   "execution_count": 71,
   "metadata": {},
   "outputs": [
    {
     "name": "stdout",
     "output_type": "stream",
     "text": [
      "[(('flour', 'butter', 'salt'), 56),\n",
      " (('eggs', 'flour', 'butter'), 48),\n",
      " (('flour', 'milk', 'butter'), 36),\n",
      " (('flour', 'sugar', 'butter'), 28)]\n"
     ]
    }
   ],
   "source": [
    "pprint(recom_basket1[:10])"
   ]
  },
  {
   "cell_type": "code",
   "execution_count": 72,
   "metadata": {},
   "outputs": [],
   "source": [
    "recom_basket2 = recommend(basket2, frequent)"
   ]
  },
  {
   "cell_type": "code",
   "execution_count": 73,
   "metadata": {},
   "outputs": [
    {
     "name": "stdout",
     "output_type": "stream",
     "text": [
      "[(('green onions', 'garlic', 'soy sauce'), 66),\n",
      " (('green onions', 'soy sauce', 'salt'), 44),\n",
      " (('water', 'green onions', 'soy sauce'), 43),\n",
      " (('green onions', 'garlic cloves', 'soy sauce'), 37),\n",
      " (('eggs', 'green onions', 'soy sauce'), 34),\n",
      " (('sesame oil', 'green onions', 'soy sauce'), 32),\n",
      " (('green onions', 'ginger', 'soy sauce'), 29),\n",
      " (('green onions', 'onions', 'soy sauce'), 26)]\n"
     ]
    }
   ],
   "source": [
    "pprint(recom_basket2[:10])"
   ]
  },
  {
   "cell_type": "code",
   "execution_count": 74,
   "metadata": {},
   "outputs": [],
   "source": [
    "recom_basket3 = recommend(basket3, frequent)"
   ]
  },
  {
   "cell_type": "code",
   "execution_count": 75,
   "metadata": {},
   "outputs": [
    {
     "name": "stdout",
     "output_type": "stream",
     "text": [
      "[]\n"
     ]
    }
   ],
   "source": [
    "pprint(recom_basket3[:10]) \n",
    "#it means that there are no recipe with exactly 4 ingredients where 3 of them are: 'avocado', 'garlic', 'salt'\n",
    "#which is odd!"
   ]
  },
  {
   "cell_type": "code",
   "execution_count": 76,
   "metadata": {},
   "outputs": [
    {
     "name": "stdout",
     "output_type": "stream",
     "text": [
      "Oops! I am not trained for baskets with more than three ingredients :(\n"
     ]
    }
   ],
   "source": [
    "recom_basket4 = recommend(basket4, frequent)"
   ]
  },
  {
   "cell_type": "code",
   "execution_count": null,
   "metadata": {},
   "outputs": [],
   "source": []
  }
 ],
 "metadata": {
  "kernelspec": {
   "display_name": "Python 3",
   "language": "python",
   "name": "python3"
  },
  "language_info": {
   "codemirror_mode": {
    "name": "ipython",
    "version": 3
   },
   "file_extension": ".py",
   "mimetype": "text/x-python",
   "name": "python",
   "nbconvert_exporter": "python",
   "pygments_lexer": "ipython3",
   "version": "3.6.5"
  }
 },
 "nbformat": 4,
 "nbformat_minor": 2
}
