{
 "cells": [
  {
   "cell_type": "markdown",
   "metadata": {},
   "source": [
    "# Assignment group 3: Probabilistic modeling and prediction"
   ]
  },
  {
   "cell_type": "markdown",
   "metadata": {},
   "source": [
    "#### Kiana Montazeri"
   ]
  },
  {
   "cell_type": "markdown",
   "metadata": {},
   "source": [
    "## Module C _(51 pts)_ Exploring Probabilistic Models of Discrete Data\n",
    "Here, we'll be working with some data from the Indego bikeshare company:\n",
    "\n",
    "- `./data/indego-trips-2017-q3.csv`\n",
    "\n",
    "Our goal is to look at a particular numeric aspect:\n",
    "\n",
    "- how often bikes get used (and worn out).\n",
    "\n",
    "The entire data set takes place over a quarter of 2017. So all of the bikes are represented according to the same quantity of time, right? Well, if so and if each gets rented randomly at a fixed rate, $\\lambda$, then the distribution of bike usage probabilities:\n",
    "\n",
    "$$P(\\text{a bike gets rented }\\:x\\:\\text{ times in a quarter})$$\n",
    "\n",
    "will be a Poisson distribution! Let's investigate to see if we can support this possibility."
   ]
  },
  {
   "cell_type": "code",
   "execution_count": 1,
   "metadata": {},
   "outputs": [],
   "source": [
    "#Libraries in use:\n",
    "from pprint import pprint\n",
    "from collections import Counter\n",
    "from collections import defaultdict\n",
    "import re\n",
    "import csv\n",
    "%matplotlib inline\n",
    "from matplotlib import pyplot as plt\n",
    "import pandas as  pd\n",
    "import numpy as np"
   ]
  },
  {
   "cell_type": "markdown",
   "metadata": {},
   "source": [
    "__C1.__ _(2 pts_) To get started, import pandas and load the data as usual. Print the spreadsheet's head so that the data's structure is close at hand."
   ]
  },
  {
   "cell_type": "code",
   "execution_count": 2,
   "metadata": {},
   "outputs": [
    {
     "data": {
      "text/html": [
       "<div>\n",
       "<style scoped>\n",
       "    .dataframe tbody tr th:only-of-type {\n",
       "        vertical-align: middle;\n",
       "    }\n",
       "\n",
       "    .dataframe tbody tr th {\n",
       "        vertical-align: top;\n",
       "    }\n",
       "\n",
       "    .dataframe thead th {\n",
       "        text-align: right;\n",
       "    }\n",
       "</style>\n",
       "<table border=\"1\" class=\"dataframe\">\n",
       "  <thead>\n",
       "    <tr style=\"text-align: right;\">\n",
       "      <th></th>\n",
       "      <th>trip_id</th>\n",
       "      <th>duration</th>\n",
       "      <th>start_time</th>\n",
       "      <th>end_time</th>\n",
       "      <th>start_station</th>\n",
       "      <th>start_lat</th>\n",
       "      <th>start_lon</th>\n",
       "      <th>end_station</th>\n",
       "      <th>end_lat</th>\n",
       "      <th>end_lon</th>\n",
       "      <th>bike_id</th>\n",
       "      <th>plan_duration</th>\n",
       "      <th>trip_route_category</th>\n",
       "      <th>passholder_type</th>\n",
       "    </tr>\n",
       "  </thead>\n",
       "  <tbody>\n",
       "    <tr>\n",
       "      <th>0</th>\n",
       "      <td>144361832</td>\n",
       "      <td>12</td>\n",
       "      <td>2017-07-01 00:04:00</td>\n",
       "      <td>2017-07-01 00:16:00</td>\n",
       "      <td>3160</td>\n",
       "      <td>39.956619</td>\n",
       "      <td>-75.198624</td>\n",
       "      <td>3163</td>\n",
       "      <td>39.949741</td>\n",
       "      <td>-75.180969</td>\n",
       "      <td>11883</td>\n",
       "      <td>30</td>\n",
       "      <td>One Way</td>\n",
       "      <td>Indego30</td>\n",
       "    </tr>\n",
       "    <tr>\n",
       "      <th>1</th>\n",
       "      <td>144361829</td>\n",
       "      <td>31</td>\n",
       "      <td>2017-07-01 00:06:00</td>\n",
       "      <td>2017-07-01 00:37:00</td>\n",
       "      <td>3046</td>\n",
       "      <td>39.950119</td>\n",
       "      <td>-75.144722</td>\n",
       "      <td>3101</td>\n",
       "      <td>39.942951</td>\n",
       "      <td>-75.159554</td>\n",
       "      <td>5394</td>\n",
       "      <td>0</td>\n",
       "      <td>One Way</td>\n",
       "      <td>Walk-up</td>\n",
       "    </tr>\n",
       "    <tr>\n",
       "      <th>2</th>\n",
       "      <td>144361830</td>\n",
       "      <td>15</td>\n",
       "      <td>2017-07-01 00:06:00</td>\n",
       "      <td>2017-07-01 00:21:00</td>\n",
       "      <td>3006</td>\n",
       "      <td>39.952202</td>\n",
       "      <td>-75.203110</td>\n",
       "      <td>3101</td>\n",
       "      <td>39.942951</td>\n",
       "      <td>-75.159554</td>\n",
       "      <td>3331</td>\n",
       "      <td>30</td>\n",
       "      <td>One Way</td>\n",
       "      <td>Indego30</td>\n",
       "    </tr>\n",
       "    <tr>\n",
       "      <th>3</th>\n",
       "      <td>144361831</td>\n",
       "      <td>15</td>\n",
       "      <td>2017-07-01 00:06:00</td>\n",
       "      <td>2017-07-01 00:21:00</td>\n",
       "      <td>3006</td>\n",
       "      <td>39.952202</td>\n",
       "      <td>-75.203110</td>\n",
       "      <td>3101</td>\n",
       "      <td>39.942951</td>\n",
       "      <td>-75.159554</td>\n",
       "      <td>3515</td>\n",
       "      <td>30</td>\n",
       "      <td>One Way</td>\n",
       "      <td>Indego30</td>\n",
       "    </tr>\n",
       "    <tr>\n",
       "      <th>4</th>\n",
       "      <td>144361828</td>\n",
       "      <td>30</td>\n",
       "      <td>2017-07-01 00:07:00</td>\n",
       "      <td>2017-07-01 00:37:00</td>\n",
       "      <td>3046</td>\n",
       "      <td>39.950119</td>\n",
       "      <td>-75.144722</td>\n",
       "      <td>3101</td>\n",
       "      <td>39.942951</td>\n",
       "      <td>-75.159554</td>\n",
       "      <td>11913</td>\n",
       "      <td>0</td>\n",
       "      <td>One Way</td>\n",
       "      <td>Walk-up</td>\n",
       "    </tr>\n",
       "  </tbody>\n",
       "</table>\n",
       "</div>"
      ],
      "text/plain": [
       "     trip_id  duration           start_time             end_time  \\\n",
       "0  144361832        12  2017-07-01 00:04:00  2017-07-01 00:16:00   \n",
       "1  144361829        31  2017-07-01 00:06:00  2017-07-01 00:37:00   \n",
       "2  144361830        15  2017-07-01 00:06:00  2017-07-01 00:21:00   \n",
       "3  144361831        15  2017-07-01 00:06:00  2017-07-01 00:21:00   \n",
       "4  144361828        30  2017-07-01 00:07:00  2017-07-01 00:37:00   \n",
       "\n",
       "   start_station  start_lat  start_lon  end_station    end_lat    end_lon  \\\n",
       "0           3160  39.956619 -75.198624         3163  39.949741 -75.180969   \n",
       "1           3046  39.950119 -75.144722         3101  39.942951 -75.159554   \n",
       "2           3006  39.952202 -75.203110         3101  39.942951 -75.159554   \n",
       "3           3006  39.952202 -75.203110         3101  39.942951 -75.159554   \n",
       "4           3046  39.950119 -75.144722         3101  39.942951 -75.159554   \n",
       "\n",
       "   bike_id  plan_duration trip_route_category passholder_type  \n",
       "0    11883             30             One Way        Indego30  \n",
       "1     5394              0             One Way         Walk-up  \n",
       "2     3331             30             One Way        Indego30  \n",
       "3     3515             30             One Way        Indego30  \n",
       "4    11913              0             One Way         Walk-up  "
      ]
     },
     "execution_count": 2,
     "metadata": {},
     "output_type": "execute_result"
    }
   ],
   "source": [
    "bike_data = pd.read_csv(\"./data/indego-trips-2017-q3.csv\", parse_dates = [0])\n",
    "bike_data.head()"
   ]
  },
  {
   "cell_type": "code",
   "execution_count": 3,
   "metadata": {},
   "outputs": [
    {
     "data": {
      "text/plain": [
       "Index(['trip_id', 'duration', 'start_time', 'end_time', 'start_station',\n",
       "       'start_lat', 'start_lon', 'end_station', 'end_lat', 'end_lon',\n",
       "       'bike_id', 'plan_duration', 'trip_route_category', 'passholder_type'],\n",
       "      dtype='object')"
      ]
     },
     "execution_count": 3,
     "metadata": {},
     "output_type": "execute_result"
    }
   ],
   "source": [
    "bike_data.columns"
   ]
  },
  {
   "cell_type": "markdown",
   "metadata": {},
   "source": [
    "__C2.__ _(5 pts)_ Now, let's start things out by counting the number of trips that each bike has in total, using pandas `df.groupby()` to group the trips, and a counter, `NumBikes`, to store the number of bikes, $n$, rented $x$ times in the quarter, $n(x)$."
   ]
  },
  {
   "cell_type": "code",
   "execution_count": 4,
   "metadata": {},
   "outputs": [],
   "source": [
    "bike_info_list = [x for x in bike_data.groupby(['bike_id'])]\n",
    "n_x = Counter()\n",
    "for i in range(len(bike_info_list)):\n",
    "    n_x[len(list(bike_info_list[i][1]['trip_id']))] += 1"
   ]
  },
  {
   "cell_type": "code",
   "execution_count": 5,
   "metadata": {},
   "outputs": [
    {
     "name": "stdout",
     "output_type": "stream",
     "text": [
      "Counter({245: 16, 220: 14, 226: 13, 225: 13, 236: 13, 247: 13, 252: 12, 257: 12, 210: 12, 242: 12, 241: 12, 203: 11, 250: 11, 201: 11, 218: 11, 224: 11, 258: 11, 243: 11, 209: 11, 227: 10, 204: 10, 219: 10, 270: 10, 235: 10, 282: 10, 237: 10, 285: 10, 239: 9, 205: 9, 261: 9, 268: 9, 263: 9, 260: 9, 253: 8, 217: 8, 273: 8, 200: 8, 192: 8, 207: 8, 229: 8, 213: 8, 234: 8, 269: 8, 249: 8, 255: 8, 267: 8, 287: 8, 301: 8, 230: 7, 228: 7, 212: 7, 199: 7, 214: 7, 179: 7, 244: 7, 223: 7, 189: 7, 183: 7, 202: 7, 248: 7, 310: 7, 231: 6, 306: 6, 215: 6, 221: 6, 240: 6, 157: 6, 259: 6, 309: 6, 238: 6, 233: 6, 246: 6, 143: 6, 198: 6, 222: 6, 265: 6, 188: 6, 277: 6, 196: 6, 284: 6, 289: 6, 314: 6, 300: 6, 326: 6, 193: 5, 294: 5, 232: 5, 313: 5, 176: 5, 197: 5, 278: 5, 148: 5, 281: 5, 191: 5, 274: 5, 206: 5, 211: 5, 216: 5, 272: 5, 254: 5, 113: 5, 291: 5, 299: 5, 283: 5, 161: 4, 174: 4, 186: 4, 181: 4, 180: 4, 296: 4, 354: 4, 256: 4, 175: 4, 166: 4, 262: 4, 182: 4, 155: 4, 172: 4, 275: 4, 264: 4, 286: 4, 363: 4, 304: 4, 343: 4, 335: 4, 332: 4, 298: 4, 307: 4, 311: 4, 295: 4, 290: 4, 319: 4, 190: 3, 162: 3, 195: 3, 150: 3, 178: 3, 167: 3, 168: 3, 154: 3, 173: 3, 184: 3, 177: 3, 169: 3, 141: 3, 131: 3, 59: 3, 208: 3, 187: 3, 280: 3, 358: 3, 323: 3, 302: 3, 322: 3, 308: 3, 325: 3, 312: 3, 330: 3, 293: 3, 78: 3, 297: 3, 158: 3, 317: 3, 338: 3, 115: 3, 114: 3, 58: 3, 35: 3, 47: 2, 56: 2, 147: 2, 116: 2, 194: 2, 251: 2, 151: 2, 7: 2, 1: 2, 112: 2, 152: 2, 118: 2, 165: 2, 316: 2, 128: 2, 288: 2, 109: 2, 127: 2, 163: 2, 83: 2, 170: 2, 276: 2, 349: 2, 266: 2, 41: 2, 279: 2, 48: 2, 102: 2, 185: 2, 68: 2, 171: 2, 122: 2, 33: 2, 328: 2, 368: 2, 341: 2, 342: 2, 361: 2, 99: 2, 164: 2, 333: 2, 350: 2, 324: 2, 340: 2, 327: 2, 49: 2, 303: 2, 331: 2, 88: 2, 55: 2, 120: 2, 26: 2, 40: 2, 334: 2, 142: 2, 110: 2, 27: 2, 18: 1, 23: 1, 145: 1, 103: 1, 111: 1, 130: 1, 346: 1, 146: 1, 34: 1, 134: 1, 100: 1, 63: 1, 153: 1, 85: 1, 156: 1, 77: 1, 348: 1, 353: 1, 271: 1, 90: 1, 74: 1, 66: 1, 125: 1, 337: 1, 357: 1, 344: 1, 36: 1, 387: 1, 292: 1, 356: 1, 160: 1, 72: 1, 355: 1, 360: 1, 318: 1, 4: 1, 336: 1, 98: 1, 673: 1, 381: 1, 137: 1, 64: 1, 329: 1, 45: 1, 42: 1, 91: 1, 25: 1, 104: 1, 17: 1, 31: 1, 140: 1, 321: 1, 6: 1, 93: 1, 136: 1, 105: 1, 8: 1, 345: 1, 57: 1, 16: 1, 53: 1, 60: 1, 108: 1, 124: 1, 370: 1, 339: 1, 38: 1, 95: 1, 79: 1, 2: 1, 13: 1, 61: 1, 121: 1, 52: 1, 366: 1})\n"
     ]
    }
   ],
   "source": [
    "print(n_x)"
   ]
  },
  {
   "cell_type": "markdown",
   "metadata": {},
   "source": [
    "__C3.__ _(5 pts)_ Now that we've got our bikes counted up, let's compute the empirical probabilities:\n",
    "\n",
    "$$P(x) = P(\\text{a bike is rented }\\:x\\:\\text{ times in a quarter}) = \n",
    "\\frac{n(x)}{\\sum n(x)}.$$\n",
    "\n",
    "We already have $n(x)$ in our `Counter()` from __C2__, so let's start by turning its keys and values into numpy arrays (vectors), `n`, and `x`. After this is done, we can make the probabilities, `p`,  from a scalar product of `n`: divide it by its sum."
   ]
  },
  {
   "cell_type": "code",
   "execution_count": 6,
   "metadata": {},
   "outputs": [],
   "source": [
    "n = np.array([t for t in n_x.values()])\n",
    "x = np.array([t for t in n_x.keys()])"
   ]
  },
  {
   "cell_type": "code",
   "execution_count": 7,
   "metadata": {},
   "outputs": [],
   "source": [
    "p = n/sum(n)"
   ]
  },
  {
   "cell_type": "code",
   "execution_count": 8,
   "metadata": {},
   "outputs": [
    {
     "data": {
      "image/png": "[encoded data removed]",
      "text/plain": [
       "<Figure size 432x288 with 1 Axes>"
      ]
     },
     "metadata": {},
     "output_type": "display_data"
    }
   ],
   "source": [
    "_= plt.hist(x, bins = 30)"
   ]
  },
  {
   "cell_type": "markdown",
   "metadata": {},
   "source": [
    "__C4.__ _(2 pts)_ Now it's time to find the average number of times a bike gets rented in a quarter. We'll call this quantity $\\lambda$. So far, we've talked about averages of data, e.g., the arithmetic mean of $x$:\n",
    "\n",
    "$$\\overline{x} = \\frac{1}{n}\\sum_{i=1}^n x_i$$\n",
    "\n",
    "But what we're now interested in is the average&mdash;center&mdash;of our probability distribution, $P(x)$. This quantity has a special name: the _expectation of $x$_, which is computed as:\n",
    "\n",
    "$$E[x] = \\sum_{i=1}^nxP(x)$$\n",
    "\n",
    "This is actually a generalization of arithmetic mean above, if you view the arithmetic mean as utilizing a _uniform_ probability distribution, having equal probability ($1/n$) for each value, $x_i$. Here's the nice part for us: looking at the equation for $E[x]$, we simply have an inner product between $P(x)$ and $x$. So let's compute $\\overline{x} = E[x]$ using the numpy dot product as an easy trick!"
   ]
  },
  {
   "cell_type": "code",
   "execution_count": 9,
   "metadata": {},
   "outputs": [],
   "source": [
    "expect_x = p.dot(x)"
   ]
  },
  {
   "cell_type": "code",
   "execution_count": 10,
   "metadata": {},
   "outputs": [
    {
     "data": {
      "text/plain": [
       "226.50163666121114"
      ]
     },
     "execution_count": 10,
     "metadata": {},
     "output_type": "execute_result"
    }
   ],
   "source": [
    "expect_x"
   ]
  },
  {
   "cell_type": "markdown",
   "metadata": {},
   "source": [
    "__C5.__ _(2 pts)_ Now let's use $\\overline{x}$ to sample a poisson distribution. We sample as many points as there are unique bikes, using `numpy.random.poisson(rate, size = nbikes)` function for this."
   ]
  },
  {
   "cell_type": "code",
   "execution_count": 11,
   "metadata": {},
   "outputs": [],
   "source": [
    "poisson = np.random.poisson(expect_x , size = len(bike_data['bike_id'].unique()))"
   ]
  },
  {
   "cell_type": "code",
   "execution_count": 12,
   "metadata": {},
   "outputs": [
    {
     "data": {
      "image/png": "[encoded data removed]",
      "text/plain": [
       "<Figure size 432x288 with 1 Axes>"
      ]
     },
     "metadata": {},
     "output_type": "display_data"
    }
   ],
   "source": [
    "_= plt.hist(poisson, bins = \"auto\")"
   ]
  },
  {
   "cell_type": "code",
   "execution_count": 13,
   "metadata": {},
   "outputs": [
    {
     "data": {
      "text/plain": [
       "array([253, 234, 207, ..., 236, 221, 228])"
      ]
     },
     "execution_count": 13,
     "metadata": {},
     "output_type": "execute_result"
    }
   ],
   "source": [
    "poisson"
   ]
  },
  {
   "cell_type": "markdown",
   "metadata": {},
   "source": [
    "__C6.__ _(3 pts)_ Now we've got our poisson sample, let's compute the analagous values to __Sec. C2__ for the sample and build a `Counter()` with the the number of sample-bikes, `s_n`, that were used $x$ times in the quarter."
   ]
  },
  {
   "cell_type": "code",
   "execution_count": 14,
   "metadata": {},
   "outputs": [],
   "source": [
    "s_n = Counter()\n",
    "for o in poisson:\n",
    "    s_n[o] += 1"
   ]
  },
  {
   "cell_type": "code",
   "execution_count": 15,
   "metadata": {},
   "outputs": [
    {
     "name": "stdout",
     "output_type": "stream",
     "text": [
      "Counter({219: 38, 228: 37, 218: 36, 224: 36, 214: 35, 221: 34, 226: 33, 227: 33, 230: 32, 223: 31, 225: 30, 229: 30, 231: 30, 235: 29, 220: 27, 237: 27, 217: 27, 234: 26, 238: 26, 213: 26, 239: 26, 222: 25, 236: 25, 241: 24, 233: 23, 243: 22, 215: 21, 211: 21, 216: 21, 232: 21, 240: 21, 212: 18, 209: 18, 242: 16, 206: 15, 205: 15, 248: 15, 253: 14, 210: 14, 245: 14, 246: 13, 244: 13, 208: 13, 207: 12, 204: 12, 203: 12, 247: 10, 251: 9, 250: 8, 249: 8, 200: 7, 252: 7, 198: 6, 254: 6, 256: 5, 199: 5, 202: 5, 257: 5, 255: 4, 191: 4, 193: 4, 260: 3, 201: 3, 258: 3, 187: 3, 262: 2, 259: 2, 196: 2, 190: 2, 270: 2, 265: 2, 197: 2, 189: 2, 188: 2, 261: 2, 194: 2, 186: 2, 184: 1, 185: 1, 267: 1, 182: 1, 272: 1, 195: 1})\n"
     ]
    }
   ],
   "source": [
    "print(s_n)"
   ]
  },
  {
   "cell_type": "markdown",
   "metadata": {},
   "source": [
    "__C7.__ _(2 pts)_ With the sample counted up, put the values and keys in numpy arrays, and then find the sample probabilities, just like we did in __C3__."
   ]
  },
  {
   "cell_type": "code",
   "execution_count": 16,
   "metadata": {},
   "outputs": [],
   "source": [
    "sample_n = np.array([t for t in s_n.values()])\n",
    "sample_x = np.array([t for t in s_n.keys()])\n",
    "sample_p = sample_n/sum(sample_n)"
   ]
  },
  {
   "cell_type": "markdown",
   "metadata": {},
   "source": [
    "__C8.__ _(5 pts)_ Now it's time to plot _bar plots_ of both your sample and the data. Note: we're using bar plots, since our data are _discrete_ and not in need of binning! The edges of our bars will be given by the $n$ values and the heights will be given by the $p$ values.\n",
    "\n",
    "What do you notice? Do the two line up well? If not, what poisson-distribution assumptions might not have been met?"
   ]
  },
  {
   "cell_type": "markdown",
   "metadata": {},
   "source": [
    "<font color=blue>It seems like that our hypothesis is not completely accurate or we did not consider all the factors in bike rentals that are available to explain this data. For example in poisson distribution the probability of one bike being rented a specific number of times in a certain time interval is fixed if these rentals occur with a constant rate and independent of the time of the previous rental which may not be fixed for all the bikes regardless of the location or other factors for that specific bike.</font>"
   ]
  },
  {
   "cell_type": "code",
   "execution_count": 17,
   "metadata": {},
   "outputs": [],
   "source": [
    "def bar_plot(whichdata, color, x, p):\n",
    "    _  = plt.bar(x = x, height = p, tick_label = x, \n",
    "            color=color, alpha=0.4, width=0.75)"
   ]
  },
  {
   "cell_type": "code",
   "execution_count": 18,
   "metadata": {},
   "outputs": [
    {
     "data": {
      "image/png": "[encoded data removed]",
      "text/plain": [
       "<Figure size 1080x360 with 1 Axes>"
      ]
     },
     "metadata": {},
     "output_type": "display_data"
    }
   ],
   "source": [
    "bar_fig = plt.figure(figsize = (15, 5))\n",
    "bar_plot(\"Original Data\", '#1CD3DF', x, p)\n",
    "bar_plot(\"Sample Data\",\"#DFD91C\", sample_x, sample_p)\n",
    "_ = plt.tick_params(\"number of times a bike is rented\") \n",
    "## Set the title\n",
    "_ = plt.title(\"Bike Data Probabilities\", fontsize = 9)\n",
    "## Set the y-label\n",
    "_ = plt.ylabel(\"Probabilities\", fontsize = 9)\n",
    "_ = plt.xticks(np.arange(min(x), max(x)+1, 100.0))"
   ]
  },
  {
   "cell_type": "markdown",
   "metadata": {},
   "source": [
    "__C9.__ (3 pts)Okay, so there's probably a few things that went wrong:\n",
    "\n",
    "- Did all bikes get used for the _same_ amount of time, i.e., were some brought in/out of commission?\n",
    "- Do some bikes just happen to exist in higher-traffic areas?\n",
    "- Do some times of year turn out a greater number of bikes?\n",
    "\n",
    "It's not the _easiest_ thing in the world to overcome these issues. However, perhaps a slightly different quantity does:\n",
    "\n",
    "- The number of times a given bike gets used in one day.\n",
    "\n",
    "Does this quantity better meet the criteria above, and if so, why?"
   ]
  },
  {
   "cell_type": "markdown",
   "metadata": {},
   "source": [
    "<font color=blue>Yes, because maybe the bike is located ina more crowded part of the city or in a less crowded part. It gives us an idea of what would be the probability of that bike being picked up as an underlying reason based on other factor other than the randomness of a bike being rented.</font>\n",
    "\n",
    "- Question: Does the quantity suffer from comparing bikes with different wear and tear?\n",
    "    - <font color=blue>The bike with more probability of getting picked up in one day is more likely used and probably damaged.</font>\n",
    "- Question: Does the quantity still suffer from dependence on environmental variation?   \n",
    "    - <font color=blue>Bikes in crowded places will be picked up more per day than less crowded places.</font>\n",
    "- Question: How does this quantity deal with seasonal variation differences, if at all?\n",
    "    - <font color=blue>With cold wether all the bikes are rented less frequently per day but the decrease in rentals maybe more significant in crowded places.</font>"
   ]
  },
  {
   "cell_type": "markdown",
   "metadata": {},
   "source": [
    "__C10.__ _(2 pts)_ Poisson for an _individual_ bike's daily rental rate? For this, we'll need to be able to count the number of times a given bike is rented each day. But first, we have to restrict to just the bike of interest. I choose `bike_id = 3331`. Create a boolean mask and filter the rows for this bike. When you're done, print out the head of the resulting 'start_time' column."
   ]
  },
  {
   "cell_type": "code",
   "execution_count": 20,
   "metadata": {},
   "outputs": [],
   "source": [
    "Bike_3331 = bike_data[bike_data['bike_id'] == 3331]"
   ]
  },
  {
   "cell_type": "code",
   "execution_count": 22,
   "metadata": {},
   "outputs": [
    {
     "data": {
      "text/html": [
       "<div>\n",
       "<style scoped>\n",
       "    .dataframe tbody tr th:only-of-type {\n",
       "        vertical-align: middle;\n",
       "    }\n",
       "\n",
       "    .dataframe tbody tr th {\n",
       "        vertical-align: top;\n",
       "    }\n",
       "\n",
       "    .dataframe thead th {\n",
       "        text-align: right;\n",
       "    }\n",
       "</style>\n",
       "<table border=\"1\" class=\"dataframe\">\n",
       "  <thead>\n",
       "    <tr style=\"text-align: right;\">\n",
       "      <th></th>\n",
       "      <th>start_time</th>\n",
       "    </tr>\n",
       "  </thead>\n",
       "  <tbody>\n",
       "    <tr>\n",
       "      <th>2</th>\n",
       "      <td>2017-07-01 00:06:00</td>\n",
       "    </tr>\n",
       "    <tr>\n",
       "      <th>1128</th>\n",
       "      <td>2017-07-01 15:01:00</td>\n",
       "    </tr>\n",
       "    <tr>\n",
       "      <th>2579</th>\n",
       "      <td>2017-07-02 11:38:00</td>\n",
       "    </tr>\n",
       "    <tr>\n",
       "      <th>2969</th>\n",
       "      <td>2017-07-02 13:29:00</td>\n",
       "    </tr>\n",
       "    <tr>\n",
       "      <th>3486</th>\n",
       "      <td>2017-07-02 16:03:00</td>\n",
       "    </tr>\n",
       "  </tbody>\n",
       "</table>\n",
       "</div>"
      ],
      "text/plain": [
       "               start_time\n",
       "2     2017-07-01 00:06:00\n",
       "1128  2017-07-01 15:01:00\n",
       "2579  2017-07-02 11:38:00\n",
       "2969  2017-07-02 13:29:00\n",
       "3486  2017-07-02 16:03:00"
      ]
     },
     "execution_count": 22,
     "metadata": {},
     "output_type": "execute_result"
    }
   ],
   "source": [
    "Bike_3331[['start_time']].head()"
   ]
  },
  {
   "cell_type": "markdown",
   "metadata": {},
   "source": [
    "__C11.__ _(5 pts)_ What I want to know is if the number of times this particular bike is rented in a given day follows a Poisson distribution.  So, we'll have to count up the bikes usage _by day_. We'll want to ignore the timestamp portion and just keep the first ten characters of the date string. While we could do some datetime parsing and high-level work to make this happen, a quick and dirty way simply slices out the first ten characters of the dates as unique strings of the form:\n",
    "\n",
    "- `yyyy-mm-dd`\n",
    "\n",
    "simply by \n",
    "\n",
    "- `DateStr = DateTimeStr[0:10]`\n",
    "\n",
    "With these, we can count up our bike's trips in a `Counter()` called `NumTripsPerDay`. We'll then go on to use this to build more $x$ and $P(x)$ values, but just for this bike."
   ]
  },
  {
   "cell_type": "code",
   "execution_count": 25,
   "metadata": {},
   "outputs": [],
   "source": [
    "Bike_3331 = Bike_3331[Bike_3331['StartDate'].notnull()].copy() #to avoid settingwithcopywarning of pandas :D\n",
    "Bike_3331.loc[:, 'StartDate'] = Bike_3331['start_time'].str[0:10]"
   ]
  },
  {
   "cell_type": "code",
   "execution_count": 26,
   "metadata": {},
   "outputs": [
    {
     "data": {
      "text/html": [
       "<div>\n",
       "<style scoped>\n",
       "    .dataframe tbody tr th:only-of-type {\n",
       "        vertical-align: middle;\n",
       "    }\n",
       "\n",
       "    .dataframe tbody tr th {\n",
       "        vertical-align: top;\n",
       "    }\n",
       "\n",
       "    .dataframe thead th {\n",
       "        text-align: right;\n",
       "    }\n",
       "</style>\n",
       "<table border=\"1\" class=\"dataframe\">\n",
       "  <thead>\n",
       "    <tr style=\"text-align: right;\">\n",
       "      <th></th>\n",
       "      <th>trip_id</th>\n",
       "      <th>duration</th>\n",
       "      <th>start_time</th>\n",
       "      <th>end_time</th>\n",
       "      <th>start_station</th>\n",
       "      <th>start_lat</th>\n",
       "      <th>start_lon</th>\n",
       "      <th>end_station</th>\n",
       "      <th>end_lat</th>\n",
       "      <th>end_lon</th>\n",
       "      <th>bike_id</th>\n",
       "      <th>plan_duration</th>\n",
       "      <th>trip_route_category</th>\n",
       "      <th>passholder_type</th>\n",
       "      <th>StartDate</th>\n",
       "    </tr>\n",
       "  </thead>\n",
       "  <tbody>\n",
       "    <tr>\n",
       "      <th>2</th>\n",
       "      <td>144361830</td>\n",
       "      <td>15</td>\n",
       "      <td>2017-07-01 00:06:00</td>\n",
       "      <td>2017-07-01 00:21:00</td>\n",
       "      <td>3006</td>\n",
       "      <td>39.952202</td>\n",
       "      <td>-75.203110</td>\n",
       "      <td>3101</td>\n",
       "      <td>39.942951</td>\n",
       "      <td>-75.159554</td>\n",
       "      <td>3331</td>\n",
       "      <td>30</td>\n",
       "      <td>One Way</td>\n",
       "      <td>Indego30</td>\n",
       "      <td>2017-07-01</td>\n",
       "    </tr>\n",
       "    <tr>\n",
       "      <th>1128</th>\n",
       "      <td>144701410</td>\n",
       "      <td>25</td>\n",
       "      <td>2017-07-01 15:01:00</td>\n",
       "      <td>2017-07-01 15:26:00</td>\n",
       "      <td>3055</td>\n",
       "      <td>39.951118</td>\n",
       "      <td>-75.154572</td>\n",
       "      <td>3061</td>\n",
       "      <td>39.954250</td>\n",
       "      <td>-75.177612</td>\n",
       "      <td>3331</td>\n",
       "      <td>30</td>\n",
       "      <td>One Way</td>\n",
       "      <td>Indego30</td>\n",
       "      <td>2017-07-01</td>\n",
       "    </tr>\n",
       "    <tr>\n",
       "      <th>2579</th>\n",
       "      <td>145177279</td>\n",
       "      <td>50</td>\n",
       "      <td>2017-07-02 11:38:00</td>\n",
       "      <td>2017-07-02 12:28:00</td>\n",
       "      <td>3061</td>\n",
       "      <td>39.954250</td>\n",
       "      <td>-75.177612</td>\n",
       "      <td>3057</td>\n",
       "      <td>39.964581</td>\n",
       "      <td>-75.180031</td>\n",
       "      <td>3331</td>\n",
       "      <td>0</td>\n",
       "      <td>One Way</td>\n",
       "      <td>Walk-up</td>\n",
       "      <td>2017-07-02</td>\n",
       "    </tr>\n",
       "    <tr>\n",
       "      <th>2969</th>\n",
       "      <td>145245783</td>\n",
       "      <td>148</td>\n",
       "      <td>2017-07-02 13:29:00</td>\n",
       "      <td>2017-07-02 15:57:00</td>\n",
       "      <td>3057</td>\n",
       "      <td>39.964581</td>\n",
       "      <td>-75.180031</td>\n",
       "      <td>3057</td>\n",
       "      <td>39.964581</td>\n",
       "      <td>-75.180031</td>\n",
       "      <td>3331</td>\n",
       "      <td>0</td>\n",
       "      <td>Round Trip</td>\n",
       "      <td>Walk-up</td>\n",
       "      <td>2017-07-02</td>\n",
       "    </tr>\n",
       "    <tr>\n",
       "      <th>3486</th>\n",
       "      <td>145268679</td>\n",
       "      <td>10</td>\n",
       "      <td>2017-07-02 16:03:00</td>\n",
       "      <td>2017-07-02 16:13:00</td>\n",
       "      <td>3057</td>\n",
       "      <td>39.964581</td>\n",
       "      <td>-75.180031</td>\n",
       "      <td>3032</td>\n",
       "      <td>39.945271</td>\n",
       "      <td>-75.179710</td>\n",
       "      <td>3331</td>\n",
       "      <td>30</td>\n",
       "      <td>One Way</td>\n",
       "      <td>Indego30</td>\n",
       "      <td>2017-07-02</td>\n",
       "    </tr>\n",
       "  </tbody>\n",
       "</table>\n",
       "</div>"
      ],
      "text/plain": [
       "        trip_id  duration           start_time             end_time  \\\n",
       "2     144361830        15  2017-07-01 00:06:00  2017-07-01 00:21:00   \n",
       "1128  144701410        25  2017-07-01 15:01:00  2017-07-01 15:26:00   \n",
       "2579  145177279        50  2017-07-02 11:38:00  2017-07-02 12:28:00   \n",
       "2969  145245783       148  2017-07-02 13:29:00  2017-07-02 15:57:00   \n",
       "3486  145268679        10  2017-07-02 16:03:00  2017-07-02 16:13:00   \n",
       "\n",
       "      start_station  start_lat  start_lon  end_station    end_lat    end_lon  \\\n",
       "2              3006  39.952202 -75.203110         3101  39.942951 -75.159554   \n",
       "1128           3055  39.951118 -75.154572         3061  39.954250 -75.177612   \n",
       "2579           3061  39.954250 -75.177612         3057  39.964581 -75.180031   \n",
       "2969           3057  39.964581 -75.180031         3057  39.964581 -75.180031   \n",
       "3486           3057  39.964581 -75.180031         3032  39.945271 -75.179710   \n",
       "\n",
       "      bike_id  plan_duration trip_route_category passholder_type   StartDate  \n",
       "2        3331             30             One Way        Indego30  2017-07-01  \n",
       "1128     3331             30             One Way        Indego30  2017-07-01  \n",
       "2579     3331              0             One Way         Walk-up  2017-07-02  \n",
       "2969     3331              0          Round Trip         Walk-up  2017-07-02  \n",
       "3486     3331             30             One Way        Indego30  2017-07-02  "
      ]
     },
     "execution_count": 26,
     "metadata": {},
     "output_type": "execute_result"
    }
   ],
   "source": [
    "Bike_3331.head()"
   ]
  },
  {
   "cell_type": "code",
   "execution_count": 27,
   "metadata": {},
   "outputs": [],
   "source": [
    "NumTripsPerDay = Counter(Bike_3331.StartDate)"
   ]
  },
  {
   "cell_type": "code",
   "execution_count": 28,
   "metadata": {},
   "outputs": [
    {
     "name": "stdout",
     "output_type": "stream",
     "text": [
      "Counter({'2017-08-26': 9,\n",
      "         '2017-08-24': 7,\n",
      "         '2017-07-02': 6,\n",
      "         '2017-07-11': 6,\n",
      "         '2017-07-29': 6,\n",
      "         '2017-08-08': 6,\n",
      "         '2017-08-17': 6,\n",
      "         '2017-08-25': 6,\n",
      "         '2017-09-27': 6,\n",
      "         '2017-07-06': 5,\n",
      "         '2017-07-07': 5,\n",
      "         '2017-07-08': 5,\n",
      "         '2017-08-02': 5,\n",
      "         '2017-09-14': 5,\n",
      "         '2017-09-23': 5,\n",
      "         '2017-07-10': 4,\n",
      "         '2017-07-13': 4,\n",
      "         '2017-07-15': 4,\n",
      "         '2017-07-25': 4,\n",
      "         '2017-07-26': 4,\n",
      "         '2017-07-28': 4,\n",
      "         '2017-08-01': 4,\n",
      "         '2017-08-19': 4,\n",
      "         '2017-08-27': 4,\n",
      "         '2017-09-04': 4,\n",
      "         '2017-09-11': 4,\n",
      "         '2017-09-12': 4,\n",
      "         '2017-09-28': 4,\n",
      "         '2017-07-05': 3,\n",
      "         '2017-07-09': 3,\n",
      "         '2017-07-12': 3,\n",
      "         '2017-07-16': 3,\n",
      "         '2017-07-17': 3,\n",
      "         '2017-07-24': 3,\n",
      "         '2017-08-05': 3,\n",
      "         '2017-08-18': 3,\n",
      "         '2017-08-21': 3,\n",
      "         '2017-09-02': 3,\n",
      "         '2017-09-10': 3,\n",
      "         '2017-09-18': 3,\n",
      "         '2017-09-20': 3,\n",
      "         '2017-09-24': 3,\n",
      "         '2017-09-29': 3,\n",
      "         '2017-07-01': 2,\n",
      "         '2017-07-18': 2,\n",
      "         '2017-07-30': 2,\n",
      "         '2017-08-03': 2,\n",
      "         '2017-08-04': 2,\n",
      "         '2017-08-07': 2,\n",
      "         '2017-08-09': 2,\n",
      "         '2017-08-20': 2,\n",
      "         '2017-09-03': 2,\n",
      "         '2017-09-09': 2,\n",
      "         '2017-09-13': 2,\n",
      "         '2017-09-15': 2,\n",
      "         '2017-09-19': 2,\n",
      "         '2017-09-30': 2,\n",
      "         '2017-07-03': 1,\n",
      "         '2017-07-14': 1,\n",
      "         '2017-07-27': 1,\n",
      "         '2017-08-06': 1,\n",
      "         '2017-08-22': 1,\n",
      "         '2017-08-23': 1,\n",
      "         '2017-09-01': 1,\n",
      "         '2017-09-05': 1,\n",
      "         '2017-09-16': 1,\n",
      "         '2017-09-22': 1,\n",
      "         '2017-09-25': 1,\n",
      "         '2017-09-26': 1})\n"
     ]
    }
   ],
   "source": [
    "pprint(NumTripsPerDay)"
   ]
  },
  {
   "cell_type": "markdown",
   "metadata": {},
   "source": [
    "__C12.__ _(2 pts)_ Now that we have the bike's trips grouped by date, let's compute a `Counter()`, `NumDays`, that now stores the number of days, $n$, in which our bike was rented $x$ times: $n(x)$, as in __C2__."
   ]
  },
  {
   "cell_type": "code",
   "execution_count": 29,
   "metadata": {},
   "outputs": [],
   "source": [
    "NumDays = Counter()\n",
    "for x in list(NumTripsPerDay.values()):\n",
    "    NumDays[x] += 1"
   ]
  },
  {
   "cell_type": "code",
   "execution_count": 30,
   "metadata": {},
   "outputs": [
    {
     "name": "stdout",
     "output_type": "stream",
     "text": [
      "Counter({3: 15, 2: 14, 4: 13, 1: 12, 6: 7, 5: 6, 7: 1, 9: 1})\n"
     ]
    }
   ],
   "source": [
    "print(NumDays)"
   ]
  },
  {
   "cell_type": "markdown",
   "metadata": {},
   "source": [
    "__C13.__ _(3 pts)_ Now that we've revised our frequency data, let go on an compute our vector forms of $n$, $x$,  and $P(x)$, and then the expectation, $E[x] = \\overline{x}$, as in __C2&ndash;C4__."
   ]
  },
  {
   "cell_type": "code",
   "execution_count": 31,
   "metadata": {},
   "outputs": [],
   "source": [
    "n_revised = np.array([t for t in NumDays.values()])\n",
    "x_revised = np.array([t for t in NumDays.keys()])"
   ]
  },
  {
   "cell_type": "code",
   "execution_count": 32,
   "metadata": {},
   "outputs": [],
   "source": [
    "p_revised = n_revised/sum(n_revised)"
   ]
  },
  {
   "cell_type": "code",
   "execution_count": 33,
   "metadata": {},
   "outputs": [],
   "source": [
    "expect_x_revised = p_revised.dot(x_revised)"
   ]
  },
  {
   "cell_type": "code",
   "execution_count": 34,
   "metadata": {},
   "outputs": [
    {
     "data": {
      "text/plain": [
       "array([0.20289855, 0.10144928, 0.17391304, 0.2173913 , 0.08695652,\n",
       "       0.1884058 , 0.01449275, 0.01449275])"
      ]
     },
     "execution_count": 34,
     "metadata": {},
     "output_type": "execute_result"
    }
   ],
   "source": [
    "p_revised"
   ]
  },
  {
   "cell_type": "code",
   "execution_count": 35,
   "metadata": {},
   "outputs": [
    {
     "data": {
      "text/plain": [
       "3.2608695652173916"
      ]
     },
     "execution_count": 35,
     "metadata": {},
     "output_type": "execute_result"
    }
   ],
   "source": [
    "expect_x_revised"
   ]
  },
  {
   "cell_type": "markdown",
   "metadata": {},
   "source": [
    "__C14.__ _(6 pts)_ We can now draw a Poisson sample again, but for the trips-per-day data and average. Additionally, continue through the steps in __C5&ndash;C7__ to make a the sample data's probabilities."
   ]
  },
  {
   "cell_type": "code",
   "execution_count": 36,
   "metadata": {},
   "outputs": [],
   "source": [
    "poisson_revised = np.random.poisson(expect_x_revised , size = len(Bike_3331['StartDate'].unique()))"
   ]
  },
  {
   "cell_type": "code",
   "execution_count": 37,
   "metadata": {},
   "outputs": [],
   "source": [
    "s_n_revised = Counter()\n",
    "for oo in poisson_revised:\n",
    "    s_n_revised[oo] += 1"
   ]
  },
  {
   "cell_type": "code",
   "execution_count": 38,
   "metadata": {},
   "outputs": [],
   "source": [
    "sample_n_revised = np.array([tt for tt in s_n_revised.values()])\n",
    "sample_x_revised = np.array([tt for tt in s_n_revised.keys()])\n",
    "sample_p_revised = sample_n_revised/sum(sample_n_revised)"
   ]
  },
  {
   "cell_type": "markdown",
   "metadata": {},
   "source": [
    "__C15.__ _(4 pts)_ Plot the two bar plots again. How well do they line up? Do these data appear to be more Poisson? If so, why do you think?"
   ]
  },
  {
   "cell_type": "markdown",
   "metadata": {},
   "source": [
    "<font color=blue>Yes, very much so. It seems like now our hypothesis is very well adjusted to the real data. In this case we are modeling each bike seperatly with all the factors specific to that particular bike which counts for the location, wear and tear, number of rentals and etc.</font>"
   ]
  },
  {
   "cell_type": "code",
   "execution_count": 40,
   "metadata": {},
   "outputs": [
    {
     "data": {
      "image/png": "[encoded data removed]",
      "text/plain": [
       "<Figure size 1080x360 with 1 Axes>"
      ]
     },
     "metadata": {},
     "output_type": "display_data"
    }
   ],
   "source": [
    "bar_fig = plt.figure(figsize = (15, 5))\n",
    "bar_plot(\"Original Data\", '#1CD3DF', x_revised, p_revised)\n",
    "bar_plot(\"Sample Data\",\"#DFD91C\", sample_x_revised, sample_p_revised)\n",
    "_ = plt.tick_params(\"number of times a bike is rented\") \n",
    "## Set the title\n",
    "_ = plt.title(\"Bike Data Probabilities\", fontsize = 9)\n",
    "## Set the y-label\n",
    "_ = plt.ylabel(\"Probabilities\", fontsize = 9)"
   ]
  },
  {
   "cell_type": "code",
   "execution_count": null,
   "metadata": {},
   "outputs": [],
   "source": []
  }
 ],
 "metadata": {
  "kernelspec": {
   "display_name": "Python 3",
   "language": "python",
   "name": "python3"
  },
  "language_info": {
   "codemirror_mode": {
    "name": "ipython",
    "version": 3
   },
   "file_extension": ".py",
   "mimetype": "text/x-python",
   "name": "python",
   "nbconvert_exporter": "python",
   "pygments_lexer": "ipython3",
   "version": "3.6.5"
  }
 },
 "nbformat": 4,
 "nbformat_minor": 2
}
