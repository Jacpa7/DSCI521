{
 "cells": [
  {
   "cell_type": "markdown",
   "metadata": {},
   "source": [
    "# Assignment group 4: Machine learning and regression"
   ]
  },
  {
   "cell_type": "markdown",
   "metadata": {},
   "source": [
    "#### Kiana Montazeri"
   ]
  },
  {
   "cell_type": "markdown",
   "metadata": {},
   "source": [
    "## Module B _(62 pts)_ Exploring Classifier Transferability\n",
    "### Data sets\n",
    "\n",
    "__Data Set 1:__ There's a lot more than e-mail text out there, and malicious SPAM-like text-based deception is pervasive in other domains. One domain of particular interest to a few companies is called _opinion SPAM_, in which product and business reviews are spoofed, either to help or hurt a business.\n",
    "\n",
    "An interesting data set for purposes of studying opinion SPAM was produced by a researcher named Myle Ott. In addition to collecting real reviews on hotels from the web and TripAdvisor, Ott et al. ran Amazon Mechanical Turk surveys to have real people write both positive and negative fake reviews of the hotels:\n",
    "\n",
    "- http://myleott.com/op-spam.html\n",
    "\n",
    "The goal with the data set was to train computers to detect which reviews were real vs. fake. These are provided in the following nested file structure:\n",
    "\n",
    "- `./data/op_spam_v1.4/negative_polarity/deceptive_from_MTurk/fold[1-5]/*.txt`\n",
    "- `./data/op_spam_v1.4/positive_polarity/deceptive_from_MTurk/fold[1-5]/*.txt`\n",
    "- `./data/op_spam_v1.4/negative_polarity/truthful_from_Web/fold[1-5]/*.txt`\n",
    "- `./data/op_spam_v1.4/positive_polarity/truthful_from_TripAdvisor/fold[1-5]/*.txt`\n",
    "\n",
    "__Data Set 2:__ The big picture of what we're trying to do here is train an Opinion SPAM classifier on the _curated_ __Data Set 1__, and apply it to get an idea of how prolific SPAM is on this completely different, _real-world_ hotel [booking website's](booking.com) data. The data from this website live in the assignment's data directory, too:\n",
    "\n",
    "- `./data/Hotel_Reviews.csv`\n",
    "    \n",
    "and were taken from [Kaggle](https://www.kaggle.com/jiashenliu/515k-hotel-reviews-data-in-europe)."
   ]
  },
  {
   "cell_type": "code",
   "execution_count": 1,
   "metadata": {},
   "outputs": [],
   "source": [
    "#Libraries in use:\n",
    "from pprint import pprint\n",
    "%matplotlib inline\n",
    "from collections import Counter\n",
    "import csv\n",
    "from matplotlib import pyplot as plt\n",
    "import pandas as  pd\n",
    "import numpy as np\n",
    "import re\n",
    "from os.path import join\n",
    "from glob import glob\n",
    "from sklearn.feature_extraction.text import CountVectorizer\n",
    "from sklearn.model_selection import train_test_split\n",
    "from sklearn.metrics import f1_score, precision_score, recall_score"
   ]
  },
  {
   "cell_type": "markdown",
   "metadata": {},
   "source": [
    "__B1.__ _(2 pts_) To load the Op SPAM data we'll be using `sklearn`, but as a requirement we'll need a full list of all the different review files in the data set. To compile a list of file paths, review the datas directory structure and use the `glob` module's `.glob(regex)` method to output a list of all `all_files` matching the provided `regex` pattern.\n",
    "\n",
    "When this is complete, print the first 5 files to show your code's function."
   ]
  },
  {
   "cell_type": "code",
   "execution_count": 2,
   "metadata": {},
   "outputs": [],
   "source": [
    "file_paths = \"./data/op_spam_v1.4/*/*/*/*.txt\"\n",
    "all_files = glob(file_paths)"
   ]
  },
  {
   "cell_type": "code",
   "execution_count": 3,
   "metadata": {},
   "outputs": [
    {
     "data": {
      "text/plain": [
       "list"
      ]
     },
     "execution_count": 3,
     "metadata": {},
     "output_type": "execute_result"
    }
   ],
   "source": [
    "type(all_files)"
   ]
  },
  {
   "cell_type": "code",
   "execution_count": 4,
   "metadata": {},
   "outputs": [
    {
     "data": {
      "text/plain": [
       "['./data/op_spam_v1.4/positive_polarity/deceptive_from_MTurk/fold2/d_talbott_9.txt',\n",
       " './data/op_spam_v1.4/positive_polarity/deceptive_from_MTurk/fold2/d_talbott_8.txt',\n",
       " './data/op_spam_v1.4/positive_polarity/deceptive_from_MTurk/fold2/d_affinia_20.txt',\n",
       " './data/op_spam_v1.4/positive_polarity/deceptive_from_MTurk/fold2/d_hardrock_18.txt',\n",
       " './data/op_spam_v1.4/positive_polarity/deceptive_from_MTurk/fold2/d_hardrock_19.txt']"
      ]
     },
     "execution_count": 4,
     "metadata": {},
     "output_type": "execute_result"
    }
   ],
   "source": [
    "all_files[:5]"
   ]
  },
  {
   "cell_type": "code",
   "execution_count": 5,
   "metadata": {},
   "outputs": [
    {
     "data": {
      "text/plain": [
       "1600"
      ]
     },
     "execution_count": 5,
     "metadata": {},
     "output_type": "execute_result"
    }
   ],
   "source": [
    "len(all_files) #4*5(fold)*80(each folder)"
   ]
  },
  {
   "cell_type": "markdown",
   "metadata": {},
   "source": [
    "__B2.__ _(3 pts)_ Since this is supervised learning, we'll neeed labels, too. To construct, use a regex match on `all_files`. In particular, since we're doing sentiment classification, utilize the word 'positive_polarity' in the file path to indicate a positve label (of value `1`) and otherwise use a negative label (value `0`). Store these values in a `np.array()` called `labels.\n",
    "\n",
    "When this is done, compute and print the size of positive and negative portions of the data set and discuss the imbalance you observe in the response box below. "
   ]
  },
  {
   "cell_type": "markdown",
   "metadata": {},
   "source": [
    "<font color=blue>We have a balanced positive and negative reviews! (No imbalance!)</font>"
   ]
  },
  {
   "cell_type": "code",
   "execution_count": 6,
   "metadata": {},
   "outputs": [],
   "source": [
    "polarity_labels = np.array([1 if \"positive_polarity\" in x else 0 for x in all_files]) "
   ]
  },
  {
   "cell_type": "code",
   "execution_count": 7,
   "metadata": {},
   "outputs": [
    {
     "data": {
      "text/plain": [
       "Counter({1: 800, 0: 800})"
      ]
     },
     "execution_count": 7,
     "metadata": {},
     "output_type": "execute_result"
    }
   ],
   "source": [
    "Counter(polarity_labels)"
   ]
  },
  {
   "cell_type": "markdown",
   "metadata": {},
   "source": [
    "__B3.__ _(3 pts)_ Now, `import` `sklearn`'s TDM-maker `CountVectorizer` from `sklearn.feature_extraction.text`. Initialize an instance of \n",
    "- `CountVectorizer(input = 'filename')` \n",
    "\n",
    "and called `vectorizer`, apply its `.fit()` and `.transform()` methods to `all_files` to produce a `TDM`.\n",
    "\n",
    "When this is complete, exhibit its shape, and be sure to apply `TDM.toarra()` to convert the matrix to a dense representation."
   ]
  },
  {
   "cell_type": "code",
   "execution_count": 8,
   "metadata": {},
   "outputs": [
    {
     "name": "stdout",
     "output_type": "stream",
     "text": [
      "(1600, 9571)\n",
      "<class 'scipy.sparse.csr.csr_matrix'>\n",
      "[[0 0 0 ... 0 0 0]\n",
      " [0 0 0 ... 0 0 0]\n",
      " [0 0 0 ... 0 0 0]\n",
      " ...\n",
      " [0 0 0 ... 0 0 0]\n",
      " [0 0 0 ... 0 0 0]\n",
      " [0 0 0 ... 0 0 0]]\n"
     ]
    }
   ],
   "source": [
    "## initialize the vectorizer\n",
    "vectorizer = CountVectorizer(input = 'filename')\n",
    "## tokenize and build a vocab that spans all files\n",
    "## note, this establishes the TDM's tracked words and their indices\n",
    "# create the TDM (it's sparse)\n",
    "SPAM_TDM = vectorizer.fit_transform(all_files)\n",
    "# let's check out a little to see if it worked!\n",
    "print(SPAM_TDM.shape)\n",
    "print(type(SPAM_TDM))\n",
    "print(SPAM_TDM.toarray())"
   ]
  },
  {
   "cell_type": "markdown",
   "metadata": {},
   "source": [
    "__B4.__ _(2 pts)_ Now, use `train_test_split` to split the `TDM` and `labels` into $75\\%$ training and $25\\%$ test sets, importing the function from `sklearn.model_selection`. Also, be sure to use use `random_state = 0`."
   ]
  },
  {
   "cell_type": "code",
   "execution_count": 9,
   "metadata": {},
   "outputs": [],
   "source": [
    "x_train, x_test, y_train, y_test = train_test_split(all_files, polarity_labels, test_size=0.25, random_state=42)"
   ]
  },
  {
   "cell_type": "markdown",
   "metadata": {},
   "source": [
    "__B5.__ _(5pts)_ Now, `import`, initialize, and `.fit()` a binary classifer of your choosing (from __Chapter 8.__) with `sklearn` on the training data split. After training, apply and print `.predict()` and `.score()` to review the model's accuracy."
   ]
  },
  {
   "cell_type": "code",
   "execution_count": 10,
   "metadata": {},
   "outputs": [
    {
     "name": "stdout",
     "output_type": "stream",
     "text": [
      "Accuracy is:\n",
      "0.935\n"
     ]
    }
   ],
   "source": [
    "from sklearn.pipeline import Pipeline\n",
    "from sklearn.decomposition import TruncatedSVD\n",
    "from sklearn.linear_model import LogisticRegression\n",
    "from sklearn.metrics import accuracy_score\n",
    "\n",
    "logistic_polarity = Pipeline([('vect', vectorizer),\n",
    "                          ('clf', LogisticRegression(solver='lbfgs'))])\n",
    "logistic_polarity.fit(x_train, y_train)\n",
    "\n",
    "predictions = logistic_polarity.predict(x_test)\n",
    "score = accuracy_score(y_test, predictions)\n",
    "print(\"Accuracy is:\")\n",
    "print(score)"
   ]
  },
  {
   "cell_type": "markdown",
   "metadata": {},
   "source": [
    "__B6.__ _(5 pts)_ Now, determine precision, recall, and $F_1$ for the classifier's performance on the test set. Do these results provide any different information as compared to accuracy? If not, why do you think? Provide discussion in the markdown cell below."
   ]
  },
  {
   "cell_type": "markdown",
   "metadata": {},
   "source": [
    "<font color=blue>Precision and recall are both rates of how good the model is based on true or false positives or negatives. and F1 is the harmonic average of the other two. However, the score is the percentage of the correct predictions. So the most important measure depends on what outcome we care about the most. For example, if we are looking to find fake negative reviews(ones that wrongfully distroy a bussiness) it would be better to look at the Recall value rather than Percision. F1 is a good _macroscopic_ measure since it includes recall and percision.<br><br>\n",
    "Precision is a good measure to determine, when the costs of False Positive is high. Here, a false positive means that a review that is non-destructive has been identified as destructive. The user might lose important boosts if the precision is not high for the false negative detection model. On the other hand, in fake review detection, if a fake review is detected as true review, the consequence can be very bad for the user and can destroy reputation.\n",
    "</font>"
   ]
  },
  {
   "cell_type": "code",
   "execution_count": 11,
   "metadata": {},
   "outputs": [
    {
     "name": "stdout",
     "output_type": "stream",
     "text": [
      "Precision, recall, and F1 were:\n",
      "0.9174757281553398\n",
      "0.9545454545454546\n",
      "0.9356435643564357\n",
      "\n"
     ]
    }
   ],
   "source": [
    "print(\"Precision, recall, and F1 were:\")\n",
    "print(precision_score(predictions, y_test))\n",
    "print(recall_score(predictions, y_test))\n",
    "print(f1_score(predictions, y_test))  \n",
    "print(\"\")"
   ]
  },
  {
   "cell_type": "markdown",
   "metadata": {},
   "source": [
    "__B7.__ _(2 pts)_ Let's see how well our sentiment polarity classifier does on a different data set:\n",
    "\n",
    "- `./data/Hotel_Reviews.csv`\n",
    "\n",
    "which was hosted on a Kaggle competition, but came from Booking.com:\n",
    "\n",
    "- https://www.kaggle.com/jiashenliu/515k-hotel-reviews-data-in-europe\n",
    "\n",
    "There's a decent description of the data there, where it seems a customer can comment with positive and negative reviews, in parallel. To get started, load these data in with pandas, print out the column names and identify (in the markdown cell, below) which have the positive and the negative reviews."
   ]
  },
  {
   "cell_type": "markdown",
   "metadata": {},
   "source": [
    "<font color=blue>Negative_Review column contains the negative ones as opposed to Positive_Review column.</font>"
   ]
  },
  {
   "cell_type": "code",
   "execution_count": 12,
   "metadata": {},
   "outputs": [],
   "source": [
    "df_Hotel_review = pd.read_csv(\"./data/Hotel_Reviews.csv\")"
   ]
  },
  {
   "cell_type": "code",
   "execution_count": 13,
   "metadata": {},
   "outputs": [
    {
     "data": {
      "text/plain": [
       "Index(['Hotel_Address', 'Additional_Number_of_Scoring', 'Review_Date',\n",
       "       'Average_Score', 'Hotel_Name', 'Reviewer_Nationality',\n",
       "       'Negative_Review', 'Review_Total_Negative_Word_Counts',\n",
       "       'Total_Number_of_Reviews', 'Positive_Review',\n",
       "       'Review_Total_Positive_Word_Counts',\n",
       "       'Total_Number_of_Reviews_Reviewer_Has_Given', 'Reviewer_Score', 'Tags',\n",
       "       'days_since_review', 'lat', 'lng'],\n",
       "      dtype='object')"
      ]
     },
     "execution_count": 13,
     "metadata": {},
     "output_type": "execute_result"
    }
   ],
   "source": [
    "df_Hotel_review.columns"
   ]
  },
  {
   "cell_type": "code",
   "execution_count": 14,
   "metadata": {},
   "outputs": [
    {
     "data": {
      "text/plain": [
       "(515738, 17)"
      ]
     },
     "execution_count": 14,
     "metadata": {},
     "output_type": "execute_result"
    }
   ],
   "source": [
    "df_Hotel_review.shape"
   ]
  },
  {
   "cell_type": "markdown",
   "metadata": {},
   "source": [
    "__B8.__ _(1 pts)_ Sometimes, a reviewer won't leave a positive or negative review in one of the categories. However, what's left is not a conventional N/A or anything. Refer back to the data dictionary:\n",
    "\n",
    "- https://www.kaggle.com/jiashenliu/515k-hotel-reviews-data-in-europe\n",
    "\n",
    "and determine what we should match for to filter out any missing/null reviews."
   ]
  },
  {
   "cell_type": "markdown",
   "metadata": {},
   "source": [
    "<font color=blue>No negative or no positive happens when the data is missing. We also have \"Please see above\" in one row.</font>"
   ]
  },
  {
   "cell_type": "markdown",
   "metadata": {},
   "source": [
    "__B9.__ _(7 pts)_ Use your observation from __B8.__ to create a single list with all of the non null reviews, as well as a parallel list of labels: $1$s (for positive review texts) and $0$s (for the negative review texts)."
   ]
  },
  {
   "cell_type": "code",
   "execution_count": 15,
   "metadata": {},
   "outputs": [],
   "source": [
    "def get_labels_and_reviews(df):\n",
    "    all_reviews = []\n",
    "    all_reviews.extend(df['Negative_Review'].unique())\n",
    "    labels = [0 for x in all_reviews]\n",
    "    all_reviews.extend(df['Positive_Review'].unique())\n",
    "    labels.extend([1 for x in range(len(df['Positive_Review'].unique()))])\n",
    "    for i, rev in enumerate(all_reviews):\n",
    "        if (rev==\"No Negative\") | (rev==\"No Positive\"): \n",
    "            all_reviews.pop(i)\n",
    "            labels.pop(i)\n",
    "    return all_reviews, labels"
   ]
  },
  {
   "cell_type": "code",
   "execution_count": 16,
   "metadata": {},
   "outputs": [],
   "source": [
    "all_reviews, df_labels = get_labels_and_reviews(df_Hotel_review)"
   ]
  },
  {
   "cell_type": "code",
   "execution_count": 17,
   "metadata": {},
   "outputs": [
    {
     "data": {
      "text/plain": [
       "(742610, 742610)"
      ]
     },
     "execution_count": 17,
     "metadata": {},
     "output_type": "execute_result"
    }
   ],
   "source": [
    "len(all_reviews), len(df_labels)"
   ]
  },
  {
   "cell_type": "code",
   "execution_count": 18,
   "metadata": {},
   "outputs": [
    {
     "data": {
      "text/plain": [
       "' The rooms were cold Although nice the room decor was basic and unwelcoming It could use some design help an area rug or two '"
      ]
     },
     "execution_count": 18,
     "metadata": {},
     "output_type": "execute_result"
    }
   ],
   "source": [
    "all_reviews[30]"
   ]
  },
  {
   "cell_type": "code",
   "execution_count": 19,
   "metadata": {},
   "outputs": [
    {
     "data": {
      "text/plain": [
       "' Rooms are very clean and comfortabile'"
      ]
     },
     "execution_count": 19,
     "metadata": {},
     "output_type": "execute_result"
    }
   ],
   "source": [
    "all_reviews[-30]"
   ]
  },
  {
   "cell_type": "code",
   "execution_count": 20,
   "metadata": {},
   "outputs": [
    {
     "data": {
      "text/plain": [
       "(0, 1)"
      ]
     },
     "execution_count": 20,
     "metadata": {},
     "output_type": "execute_result"
    }
   ],
   "source": [
    "df_labels[30], df_labels[-30]"
   ]
  },
  {
   "cell_type": "markdown",
   "metadata": {},
   "source": [
    "__B10.__ _(2 pts)_ How many positive and negatives were there? Does this data set have a class imbalance? Specifically, determine the percentage of reviews that were positive and comment on the presence of any imbalance in the markdown cell below."
   ]
  },
  {
   "cell_type": "code",
   "execution_count": 21,
   "metadata": {},
   "outputs": [
    {
     "name": "stdout",
     "output_type": "stream",
     "text": [
      "Counter({1: 412600, 0: 330010})\n"
     ]
    }
   ],
   "source": [
    "counter_pos_neg = Counter(df_labels)\n",
    "print(counter_pos_neg)"
   ]
  },
  {
   "cell_type": "code",
   "execution_count": 22,
   "metadata": {},
   "outputs": [
    {
     "data": {
      "text/plain": [
       "55.56079234052868"
      ]
     },
     "execution_count": 22,
     "metadata": {},
     "output_type": "execute_result"
    }
   ],
   "source": [
    "pos_percentage = 100*counter_pos_neg[1]/(counter_pos_neg[1]+counter_pos_neg[0])\n",
    "pos_percentage"
   ]
  },
  {
   "cell_type": "code",
   "execution_count": 23,
   "metadata": {},
   "outputs": [
    {
     "data": {
      "text/plain": [
       "44.43920765947132"
      ]
     },
     "execution_count": 23,
     "metadata": {},
     "output_type": "execute_result"
    }
   ],
   "source": [
    "neg_percentage = 100*counter_pos_neg[0]/(counter_pos_neg[1]+counter_pos_neg[0])\n",
    "neg_percentage"
   ]
  },
  {
   "cell_type": "markdown",
   "metadata": {},
   "source": [
    "<font color=blue>There is an imbalance in the data. Most of the reviews are positive. </font>"
   ]
  },
  {
   "cell_type": "markdown",
   "metadata": {},
   "source": [
    "__B11.__ _(5 pts)_ Use `CountVectorizer()` again&mdash;now to create a TDM for the new hotel data. Note: You must use the same initialized vectorizer from __B3.__, i.e., after is has run `.fit()`. So, here you must start from the `'.transform()'` step. If you re-initialize the vectorizer, you will wind up with a different vocabulary! Note: you also have to change the input format with `vectorizer.input`. It was equal to `'filename'` which would create a TDM by a list of files. Now we want it to work off of a list of strings. This will work if we set:\n",
    "- `'vectorizer.input = content'`"
   ]
  },
  {
   "cell_type": "code",
   "execution_count": 24,
   "metadata": {},
   "outputs": [
    {
     "name": "stdout",
     "output_type": "stream",
     "text": [
      "(742610, 8358)\n",
      "<class 'scipy.sparse.csr.csr_matrix'>\n",
      "[[1 0 0 ... 0 0 0]\n",
      " [0 0 0 ... 0 0 0]\n",
      " [0 0 0 ... 0 0 0]\n",
      " ...\n",
      " [0 0 0 ... 0 0 0]\n",
      " [0 0 0 ... 0 0 0]\n",
      " [0 0 0 ... 0 0 0]]\n"
     ]
    }
   ],
   "source": [
    "vectorizer.input = 'content'\n",
    "Hotel_TDM = vectorizer.transform(all_reviews)\n",
    "# let's check out a little to see if it worked!\n",
    "print(Hotel_TDM.shape)\n",
    "print(type(Hotel_TDM))\n",
    "print(Hotel_TDM.toarray())"
   ]
  },
  {
   "cell_type": "markdown",
   "metadata": {},
   "source": [
    "__B12.__ _(5 pts)_ Apply your Classifier to this new, Booking.com TDM and compute accuracy, precision, recall, and $F_1$. What do you notice? Is there any more of a class imbalance now? Comment in the markdown cell below."
   ]
  },
  {
   "cell_type": "markdown",
   "metadata": {},
   "source": [
    "<font color=blue>Now the difference between different accuracy measures are more significant. Precision and recall provide an effective means to evaluate model performance in the presence of class imbalance and Accuracy can be sometimes misleading.</font>"
   ]
  },
  {
   "cell_type": "code",
   "execution_count": 25,
   "metadata": {},
   "outputs": [
    {
     "name": "stdout",
     "output_type": "stream",
     "text": [
      "Accuracy is:\n",
      "0.7900297599008901\n"
     ]
    }
   ],
   "source": [
    "predictionsHotel = logistic_polarity.predict(all_reviews)\n",
    "scoreHotel = accuracy_score(df_labels, predictionsHotel)\n",
    "print(\"Accuracy is:\")\n",
    "print(scoreHotel)"
   ]
  },
  {
   "cell_type": "code",
   "execution_count": 26,
   "metadata": {},
   "outputs": [
    {
     "name": "stdout",
     "output_type": "stream",
     "text": [
      "Precision, recall, and F1 were:\n",
      "0.9470722249151721\n",
      "0.7445212917976565\n",
      "0.8336700624033281\n",
      "\n"
     ]
    }
   ],
   "source": [
    "print(\"Precision, recall, and F1 were:\")\n",
    "print(precision_score(predictionsHotel, df_labels))\n",
    "print(recall_score(predictionsHotel, df_labels))\n",
    "print(f1_score(predictionsHotel, df_labels))  \n",
    "print(\"\")"
   ]
  },
  {
   "cell_type": "markdown",
   "metadata": {},
   "source": [
    "__B13.__ _(2 pts)_  Compare these results with the results from __B6__. Is the performance better or worse in some areas (e.g., precision vs. recall) than others? Do you think our sentiment polarity classifier transferred well from the one Opintion SPAM dataset to this one from Booking.com? Place your discussion in the markdown box below."
   ]
  },
  {
   "cell_type": "markdown",
   "metadata": {},
   "source": [
    "<font color=blue>Percision result is better but rhe recall value is worse. Since this is an application of sentiment analysis.  If the algorithm is created for sentiment analysis and all you need is a high-level idea of emotions indicated in tweets then aiming for precision is the way to go. This means that our model transfered very well to the hotel data.</font>"
   ]
  },
  {
   "cell_type": "markdown",
   "metadata": {},
   "source": [
    "__B14.__ _(3 pts)_ Go back to the Opinion SPAM data and rebuild the _SPAM_ (no longer sentiment polarity) labels for that dataset's classification, in particular using the patter `deceptive` inside of the file names to produce positive-valued (`1`) labels, and `0`s, otherwise."
   ]
  },
  {
   "cell_type": "code",
   "execution_count": 27,
   "metadata": {},
   "outputs": [],
   "source": [
    "spam_labels = np.array([1 if \"deceptive\" in x else 0 for x in all_files]) "
   ]
  },
  {
   "cell_type": "code",
   "execution_count": 28,
   "metadata": {},
   "outputs": [
    {
     "data": {
      "text/plain": [
       "Counter({1: 800, 0: 800})"
      ]
     },
     "execution_count": 28,
     "metadata": {},
     "output_type": "execute_result"
    }
   ],
   "source": [
    "Counter(spam_labels)"
   ]
  },
  {
   "cell_type": "markdown",
   "metadata": {},
   "source": [
    "__B15.__ _(2 pts)_ Now, train your classifier on _all_ of the Opinion SPAM labels. Note: you _must_ initialize a new classifier in order to classify _SPAM_, instead of polarity. However, we can just reuse our `TDM` from __B3__."
   ]
  },
  {
   "cell_type": "code",
   "execution_count": 31,
   "metadata": {},
   "outputs": [],
   "source": [
    "logistic_SPAM = Pipeline([('vect', vectorizer),\n",
    "                          ('clf', LogisticRegression(solver='lbfgs', max_iter=200))])"
   ]
  },
  {
   "cell_type": "code",
   "execution_count": 32,
   "metadata": {},
   "outputs": [
    {
     "data": {
      "text/plain": [
       "Pipeline(memory=None,\n",
       "     steps=[('vect', CountVectorizer(analyzer='word', binary=False, decode_error='strict',\n",
       "        dtype=<class 'numpy.int64'>, encoding='utf-8', input='filename',\n",
       "        lowercase=True, max_df=1.0, max_features=None, min_df=1,\n",
       "        ngram_range=(1, 1), preprocessor=None, stop_words=None,\n",
       "        stri...enalty='l2', random_state=None, solver='lbfgs',\n",
       "          tol=0.0001, verbose=0, warm_start=False))])"
      ]
     },
     "execution_count": 32,
     "metadata": {},
     "output_type": "execute_result"
    }
   ],
   "source": [
    "vectorizer.input = 'filename'\n",
    "logistic_SPAM.fit(all_files, spam_labels)"
   ]
  },
  {
   "cell_type": "markdown",
   "metadata": {},
   "source": [
    "__B16.__ _(3 pts)_ Run the classifier you just trained on the new hotel reviews data set. Make classification at a threshold of $0.5$ and report the percentage of the new data set that our classifier thinks is SPAM. "
   ]
  },
  {
   "cell_type": "code",
   "execution_count": 33,
   "metadata": {},
   "outputs": [],
   "source": [
    "vectorizer.input = 'content'\n",
    "predictionsHotelSPAM = logistic_SPAM.predict(all_reviews) #default threshold is 0.5"
   ]
  },
  {
   "cell_type": "code",
   "execution_count": 34,
   "metadata": {},
   "outputs": [],
   "source": [
    "CounterSpam = Counter(predictionsHotelSPAM)"
   ]
  },
  {
   "cell_type": "code",
   "execution_count": 37,
   "metadata": {},
   "outputs": [
    {
     "data": {
      "text/plain": [
       "Counter({0: 637998, 1: 104612})"
      ]
     },
     "execution_count": 37,
     "metadata": {},
     "output_type": "execute_result"
    }
   ],
   "source": [
    "CounterSpam"
   ]
  },
  {
   "cell_type": "code",
   "execution_count": 35,
   "metadata": {},
   "outputs": [],
   "source": [
    "SPAM_Percentage = CounterSpam[1]/(CounterSpam[1] + CounterSpam[0])"
   ]
  },
  {
   "cell_type": "code",
   "execution_count": 36,
   "metadata": {},
   "outputs": [
    {
     "data": {
      "text/plain": [
       "0.14087071275635932"
      ]
     },
     "execution_count": 36,
     "metadata": {},
     "output_type": "execute_result"
    }
   ],
   "source": [
    "SPAM_Percentage"
   ]
  },
  {
   "cell_type": "markdown",
   "metadata": {},
   "source": [
    "__B17.__ (2 pts) Interpret the output percentage from __B16__. Is this a big number? If correct, what would it mean for Booking.com? Do you our classification was a reliable assessment? Why or why not? Place your discussion in the markdown cell, below."
   ]
  },
  {
   "cell_type": "markdown",
   "metadata": {},
   "source": [
    "<font color=blue>Since label 1 was for spam, the percentage of ones to total number is the portion of spam reviews. If this number is high, it means that the reviews are not sincere and probably Booking.com website should not be trusted.It means that 14 percent of the reviews on the website are fake(which I believe is pretty high! (:-?))</font>"
   ]
  },
  {
   "cell_type": "markdown",
   "metadata": {},
   "source": [
    "__C18.__ _(2 pts)_ Sort the Booking.com reviews by their prediction probabilities from high to low. Either use `sorted()` on a list of `(probability, review)` tuples, or create a pandas data frame with the two columns and use the `.sort_values()` method."
   ]
  },
  {
   "cell_type": "code",
   "execution_count": 71,
   "metadata": {},
   "outputs": [],
   "source": [
    "prob_predictionsHotelSPAM = logistic_SPAM.predict_proba(all_reviews)"
   ]
  },
  {
   "cell_type": "code",
   "execution_count": 72,
   "metadata": {},
   "outputs": [],
   "source": [
    "def make_review_prob_sorted_df(predictionProb):\n",
    "    prob_df = pd.DataFrame(predictionProb)\n",
    "    prob_df.drop(0, axis=1, inplace=True)\n",
    "    prob_df['reviews'] = np.array(all_reviews)\n",
    "    df_sorted = prob_df.sort_values(1, ascending=False)\n",
    "    return df_sorted"
   ]
  },
  {
   "cell_type": "code",
   "execution_count": 73,
   "metadata": {},
   "outputs": [],
   "source": [
    "df_sorted = make_review_prob_sorted_df(prob_predictionsHotelSPAM)"
   ]
  },
  {
   "cell_type": "code",
   "execution_count": 74,
   "metadata": {},
   "outputs": [
    {
     "data": {
      "text/html": [
       "<div>\n",
       "<style scoped>\n",
       "    .dataframe tbody tr th:only-of-type {\n",
       "        vertical-align: middle;\n",
       "    }\n",
       "\n",
       "    .dataframe tbody tr th {\n",
       "        vertical-align: top;\n",
       "    }\n",
       "\n",
       "    .dataframe thead th {\n",
       "        text-align: right;\n",
       "    }\n",
       "</style>\n",
       "<table border=\"1\" class=\"dataframe\">\n",
       "  <thead>\n",
       "    <tr style=\"text-align: right;\">\n",
       "      <th></th>\n",
       "      <th>1</th>\n",
       "      <th>reviews</th>\n",
       "    </tr>\n",
       "  </thead>\n",
       "  <tbody>\n",
       "    <tr>\n",
       "      <th>204742</th>\n",
       "      <td>0.999996</td>\n",
       "      <td>My husband and I stayed in the penthouse The ...</td>\n",
       "    </tr>\n",
       "    <tr>\n",
       "      <th>387872</th>\n",
       "      <td>0.999759</td>\n",
       "      <td>I would never stay in this hotel i stay here ...</td>\n",
       "    </tr>\n",
       "    <tr>\n",
       "      <th>157820</th>\n",
       "      <td>0.999757</td>\n",
       "      <td>Warning for international guests Keep your pa...</td>\n",
       "    </tr>\n",
       "    <tr>\n",
       "      <th>578087</th>\n",
       "      <td>0.999660</td>\n",
       "      <td>Hotel was just amazing myself and my boyfrien...</td>\n",
       "    </tr>\n",
       "    <tr>\n",
       "      <th>129260</th>\n",
       "      <td>0.999624</td>\n",
       "      <td>The bathroom was tired the bath panel had see...</td>\n",
       "    </tr>\n",
       "  </tbody>\n",
       "</table>\n",
       "</div>"
      ],
      "text/plain": [
       "               1                                            reviews\n",
       "204742  0.999996   My husband and I stayed in the penthouse The ...\n",
       "387872  0.999759   I would never stay in this hotel i stay here ...\n",
       "157820  0.999757   Warning for international guests Keep your pa...\n",
       "578087  0.999660   Hotel was just amazing myself and my boyfrien...\n",
       "129260  0.999624   The bathroom was tired the bath panel had see..."
      ]
     },
     "execution_count": 74,
     "metadata": {},
     "output_type": "execute_result"
    }
   ],
   "source": [
    "df_sorted.head()"
   ]
  },
  {
   "cell_type": "markdown",
   "metadata": {},
   "source": [
    "__B19.__ _(2 pts)_ We really don't have SPAM labels for the Booking.com data. So, inspect the first few most and least spammy reviews. What observations can you draw? Do you see any qualitative differences between the most and least spammy reviews? Do you think the classifier is working?  Place your discussion in the markdown cell, below."
   ]
  },
  {
   "cell_type": "markdown",
   "metadata": {},
   "source": [
    "<font color=blue>In my opinion, the probably fake ones are more exaggerated than the probably true ones. They talk more about a crazy situation that happened to them suring their stay. On the other hand, the sincere ones are more focused on the quality of the rooms, service, etc.</font>"
   ]
  },
  {
   "cell_type": "code",
   "execution_count": 80,
   "metadata": {},
   "outputs": [
    {
     "name": "stdout",
     "output_type": "stream",
     "text": [
      "Most spammy reviews are: \n",
      "\n",
      " My husband and I stayed in the penthouse The room had a strong sewage gas Oder Someone should have known right from the start and should have NOT have hat room booked The room was dusty I m allergic to dust the headboard had mold and the refrigerator was not getting cold I took pictures My husband called the receptionist right away and they said there was nothing that they could do until the morning My husband wanted to talk to the manager but the manager is not available on the weekends which is ridiculous because a manager at any hotel should be available 24 7 The receptionist said there was nothing they could do until the morning They said they would bring a plumber to check it out That night my husband and I went out and bought candles to get rid of the smell It didn t really help It made me so sick The strong Oder I m actually sick now nauseous fatigued and a high fewer Well my husband called the next morning at 8 30am to see when the plumber was coming 5 minutes later we get a knock at the door from the housekeeper She put some white balls into the shower drainage I took pictures of that as well Then my husband and I get ready to leave early so the plumber can do whatever they needed to do We left the hotel at 9am and got back at 5 30pm Yuck the smell was still there Of course my husband was upset and so was I so he called the front desk and told them we have been gone for a very long time in order for someone to fix the sewage gas leakage He said it s the weekend so it s hard to get anyone but they told us someone would be here they also said someone would be there to fix the refrigerator That didn t happen The nigh before my husband put 2 beers outside our terrace they were gone the next day while we were out My husband and I was extremely upset and wanted to talk to the manager right away \n",
      "\n",
      "\n",
      " I would never stay in this hotel i stay here with my sister for my birthday The bathroom are so small the bath is 3 feet We ask to be moved and was told they would have a twin room available the next day We pack up the next day around midday we rang to be told it not ready We came back at teatime and was given the same size room and bathroom Then I rang again and was given a room with a double bed but the room and bathroom was normal size so we took it So we taught our troubles were over I order room service I order chicken tandoori sandwich and fires with out bread price around 13 pounds The food came just as I got out of the bath took the food and sign Stating to eat the fires were covered in salt and could be eating and the chicken just wasn t good The door rang again and the staff member told me I can t sign for my food I must pay cash I informed him my credit card details are with the hotel No must pay cash I was stand in my towel he ask me for 28 pounds I just gave it to him with the tray explaining that you couldn t eat it anyhow Within a half hour of eatting what i did i was throwing it up The next I talk to the manager and he was more worry about the food then me He informed me it would take a few days to find out about the food and wry it made me sick I was leaving the next day The next day as I was leaving I was given 50 pounds and was told I would be emailed in a few days but no email I have stayed many time in their Mayfair hotel and have loved it It is one of the worst experience in a hotel i have ever had Don t stay here\n",
      "\n",
      "\n",
      " Warning for international guests Keep your passport locked up in the room safe at all times do not leave it out in your room or your bags My story Within 15 minutes of checking in I left my room to have dinner When I came back my passport was gone and the various cards I had inside of it were on the floor The hotel desk staff helped me look for it in vain but their attitude left me wondering how often this happens at this hotel I d typically chalk it up to being forgetful but the evidence stands my passport and only my passport was taken from my room After asking around I ve found that passport theft from hotel rooms is not uncommon in Paris Given my experience at this hotel using extreme caution with important documents is absolutely required at this hotel The first room I checked into was not cleaned even though the receptionist had called the cleaning staff to make sure the room was available That said the receptionist made sure to put me in another room immediately which was cleaned and they ended up not charging me for the room upgrade as a result which was much appreciated The room I ended up in had water damage to some of the carpets as well as various issues that made this 4 star hotel seem more like a 2 star like broken plugs odd fitting appliances and the like Also don t order room service after 6PM even though there is a restaurant on site they will tell you that they are out of whatever you re looking for Upon leaving the hotel to seek food elsewhere you can stroll past the restaurant and see that they re serving the same food they re supposedly out of Ridiculous \n",
      "\n",
      "\n"
     ]
    }
   ],
   "source": [
    "print(\"Most spammy reviews are: \\n\")\n",
    "for x in df_sorted['reviews'][:3]:\n",
    "    print(x)\n",
    "    print('\\n')"
   ]
  },
  {
   "cell_type": "code",
   "execution_count": 81,
   "metadata": {},
   "outputs": [
    {
     "name": "stdout",
     "output_type": "stream",
     "text": [
      "Least spammy reviews are: \n",
      "\n",
      " Bedroom needs painting there was a gap between bedroom carpet and bathroom door the bin in room was as all bent to different shapes stain on the table and seat In all the management need to invest heavily in the property Bedroom needs painting there was a gap between bedroom carpet and bathroom door the bin in room was as all bent to different shapes stain on the table and seat In all the management need to invest heavily in the property Bedroom needs painting there was a gap between bedroom carpet and bathroom door the bin in room was as all bent to different shapes stain on the table and seat In all the management need to invest heavily in the property Bedroom needs painting there was a gap between bedroom carpet and bathroom door the bin in room was as all bent to different shapes stain on the table and seat In all the management need to invest heavily in the property Bedroom needs painting there was a gap between bedroom carpet and bathroom door the bin in room was as all bent to different shapes stain on the table and seat In all the management need to invest heavily in the property Bedroom needs painting there was a gap between bedroom carpet and bathroom door the bin in room was as all bent to different shapes stain on the table and seat In all the management need to invest heavily in the property Bedroom needs painting there was a gap between bedroom carpet and bathroom door the bin in room was as all bent to different shapes stain on the table and seat In all the management need to invest heavily in the property Bedroom needs painting there was a gap between bedroom carpet and bathroom door the bin in room was as all bent to different shapes stain on the table and seat \n",
      "\n",
      "\n",
      " No air conditioning in the rooms We had to change the rooms THREE times There was no air conditioning in the first room we we given on the 3rd floor was very tiny and very hot The hostess proposed to have the window located behind our bed open This did not sound like a confortable sleeping arrangement to us so we asked for a cooler room and were given a second chance The room was on ground level big but hotter than the previous one perhaps 28C On our request the host opened the window just a little bit it was impossible to open the window more because of it s position The tram lines are located on the street the room was facing and garbage bins are located under the room Not confortable and very noisy all night Our booking was for five nights so we requested a better room or our money back The manager offered another room kindly explained that this is the last room change and that the weather is a bit hotter than usual in Amsterdam 22C is not hot in anyone s terms The third room had no aircon but a small window that we kept open during the night It was manageable but NOT confortable After all we came on holidays to Amsterdam and we wanted a confortable room What is disappointing is the fact that back in March 2016 we enquired if the room that we have booked had an aircon and received an email confirmation on the 26 March from Emma K stating YES Other issues The hairdrier is attached to the wall in the bathroom and a button has to be pressed on non stop while drying the hair These style of hairdryers belong well back to the past I preffer to sit while drying my hair not to stand in a hot bathroom pressing a button The floor of the shower cabin floor is sleek and slippery No tissue paper ear buds or cotton balls are available in the bathroom In my opinion this cute hotel would be good for younger audiences and perhaps more for guests accustomed to European standards of hotel services \n",
      "\n",
      "\n",
      " Don t bother with this hotel they cater to businessmen therefore the rooms are not functional nor conducive to a woman s use The closet and bathroom is one large room with no separation so if someone was using the bathroom than the other person cannot access their clothes luggage without disrupting the person who is using it CONS Not enough lighting No outlets in bathroom none No shelf in shower No place in shower to set personal items No seat in shower No door on shower No water pressure Heated towel bar a 10 foot walking outside the shower Handheld shower heads are placed at waist level way too low on wall in shower and spray right out the glass opening getting the bathroom floor all wet Polished natural stone on bathroom floor creates an extremely slippery floor in bathroom Not safe Clothes hanging in closet portion absorb moisture from shower and orders from toilet use Closet area has black walls and black floor with insufficient lighting we had to use our cell phones light in order to see inside our suitcases No privacy men in the building directly across the way stand in the window and talking on the phone and while they conduct business they stare directly into our room at the same floor level No Nespresso maker they said they would bring one and never did even when we asked a second time No help from the front desk who kept referring us to housekeeping who we had already spoken to and they were also no help Restaurant is extremely over priced They only sell tapas we had 2 each 4 total 1 small salad and 3 15 glasses of wine and it was 152 pounds They automatically include a service fee on your dine in service which is an optional tip only they don t tell you that it s in there or that it s optional We would never stay in this hotel again very poorly designed If you are a businessman and don t need to see in the mirror then it might work for you \n",
      "\n",
      "\n"
     ]
    }
   ],
   "source": [
    "print(\"Least spammy reviews are: \\n\")\n",
    "for x in df_sorted['reviews'][-3:]:\n",
    "    print(x)\n",
    "    print('\\n')"
   ]
  },
  {
   "cell_type": "markdown",
   "metadata": {},
   "source": [
    "__B20.__ (2 pts) What aspects of our classifier could we modify to potentially improve our SPAM classifier's performance? Specifically, discuss the potential effects to this experiment in selecting or transforming our features, or optimizing any criteria for our predictions in the markdown cell, below."
   ]
  },
  {
   "cell_type": "markdown",
   "metadata": {},
   "source": [
    "<font color=blue>Right now, our model is based on the number of occurences of each word in the whole review dataset. Instead, we can perform a sentiment analysis on the text to extract more specificly oriented features of each review. Maybe, this way the predictions would be more accurate. Another way is to take a bundle of words and extract the features of the whole bunch together for a more meaningful phrase.</font>"
   ]
  },
  {
   "cell_type": "markdown",
   "metadata": {},
   "source": [
    "__B21.__ _(2 pts)_ How could we get an evaluation out of this experiment and _really_ know if the classifer is working? What would we have to do with the Booking.com data in order to get a strong sense of our performance on SPAM? Is there _any_ reasonable labeling of this data that we could come up with, or would we have to get some new data that we have more control over? Place your discussion in the markdown cell, below."
   ]
  },
  {
   "cell_type": "markdown",
   "metadata": {},
   "source": [
    "<font color=blue>Maybe we can use the column \"reviewer Score\" to come up with a new system of labeling. This way a reviewer with a very poor score will be more likely to leave a fake review.</font>"
   ]
  },
  {
   "cell_type": "code",
   "execution_count": null,
   "metadata": {},
   "outputs": [],
   "source": []
  }
 ],
 "metadata": {
  "kernelspec": {
   "display_name": "Python 3",
   "language": "python",
   "name": "python3"
  },
  "language_info": {
   "codemirror_mode": {
    "name": "ipython",
    "version": 3
   },
   "file_extension": ".py",
   "mimetype": "text/x-python",
   "name": "python",
   "nbconvert_exporter": "python",
   "pygments_lexer": "ipython3",
   "version": "3.6.5"
  }
 },
 "nbformat": 4,
 "nbformat_minor": 2
}
