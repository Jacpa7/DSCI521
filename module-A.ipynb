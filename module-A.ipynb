{
 "cells": [
  {
   "cell_type": "markdown",
   "metadata": {},
   "source": [
    "# Assignment group 1: Textual feature extraction and numerical comparison"
   ]
  },
  {
   "cell_type": "markdown",
   "metadata": {},
   "source": [
    "## Module A _(35 points)_ Processing numeric data"
   ]
  },
  {
   "cell_type": "markdown",
   "metadata": {},
   "source": [
    "__A1.__ In this problem, you will be working with the demographics data from The Henry J. Kaiser Family Foundation (https://www.kff.org/) including the population of 52 locations (50 states, District of Columbia, and Puerto Rico) based on race, gender, age, and the number of adults with and without children. This data is obtained from the Census Bureau’s American Community Survey (ACS). The data is stored in a `csv` file format located in the attached `data` directory. Read the `data/demographics.csv` file into a `pandas` dataframe and print the dimensionality (using `.shape` method) and the name of the features of the dataframe. (3 points)"
   ]
  },
  {
   "cell_type": "code",
   "execution_count": 16,
   "metadata": {},
   "outputs": [],
   "source": [
    "#Libraries in use:\n",
    "import pandas as pd\n",
    "import requests\n",
    "import urllib\n",
    "from pprint import pprint\n",
    "import re\n",
    "import csv\n",
    "import numpy as np"
   ]
  },
  {
   "cell_type": "code",
   "execution_count": 2,
   "metadata": {},
   "outputs": [
    {
     "data": {
      "text/plain": [
       "(52, 18)"
      ]
     },
     "execution_count": 2,
     "metadata": {},
     "output_type": "execute_result"
    }
   ],
   "source": [
    "# code here\n",
    "df_demographics = pd.read_csv(\"data/demographics.csv\")\n",
    "df_demographics.shape"
   ]
  },
  {
   "cell_type": "code",
   "execution_count": 3,
   "metadata": {},
   "outputs": [
    {
     "data": {
      "text/plain": [
       "Index(['Location', 'Male', 'Female', 'Adults_with_Children',\n",
       "       'Adults_with_No_Children', 'White', 'Black', 'Hispanic', 'Asian',\n",
       "       'American_Indian_or_Alaska_Native',\n",
       "       'Native_Hawaiian_or_Other_Pacific_Islander', 'Two_Or_More_Races',\n",
       "       'Age0_18', 'Age_19_25', 'Age_26_34', 'Age_35_54', 'Age_55_64',\n",
       "       'Age_65_plus'],\n",
       "      dtype='object')"
      ]
     },
     "execution_count": 3,
     "metadata": {},
     "output_type": "execute_result"
    }
   ],
   "source": [
    "df_demographics.columns"
   ]
  },
  {
   "cell_type": "markdown",
   "metadata": {},
   "source": [
    "__A2.__ _(2 points)_ To gain a better insight into the dataframe, show the head and tail of the dataframe (using the `.head()` and `.tail()` methods)."
   ]
  },
  {
   "cell_type": "code",
   "execution_count": 4,
   "metadata": {},
   "outputs": [
    {
     "data": {
      "text/html": [
       "<div>\n",
       "<style scoped>\n",
       "    .dataframe tbody tr th:only-of-type {\n",
       "        vertical-align: middle;\n",
       "    }\n",
       "\n",
       "    .dataframe tbody tr th {\n",
       "        vertical-align: top;\n",
       "    }\n",
       "\n",
       "    .dataframe thead th {\n",
       "        text-align: right;\n",
       "    }\n",
       "</style>\n",
       "<table border=\"1\" class=\"dataframe\">\n",
       "  <thead>\n",
       "    <tr style=\"text-align: right;\">\n",
       "      <th></th>\n",
       "      <th>Location</th>\n",
       "      <th>Male</th>\n",
       "      <th>Female</th>\n",
       "      <th>Adults_with_Children</th>\n",
       "      <th>Adults_with_No_Children</th>\n",
       "      <th>White</th>\n",
       "      <th>Black</th>\n",
       "      <th>Hispanic</th>\n",
       "      <th>Asian</th>\n",
       "      <th>American_Indian_or_Alaska_Native</th>\n",
       "      <th>Native_Hawaiian_or_Other_Pacific_Islander</th>\n",
       "      <th>Two_Or_More_Races</th>\n",
       "      <th>Age0_18</th>\n",
       "      <th>Age_19_25</th>\n",
       "      <th>Age_26_34</th>\n",
       "      <th>Age_35_54</th>\n",
       "      <th>Age_55_64</th>\n",
       "      <th>Age_65_plus</th>\n",
       "    </tr>\n",
       "  </thead>\n",
       "  <tbody>\n",
       "    <tr>\n",
       "      <th>0</th>\n",
       "      <td>Alabama</td>\n",
       "      <td>2284900</td>\n",
       "      <td>2456500</td>\n",
       "      <td>878300</td>\n",
       "      <td>1941300</td>\n",
       "      <td>3119100</td>\n",
       "      <td>1259900.0</td>\n",
       "      <td>195700</td>\n",
       "      <td>63800.0</td>\n",
       "      <td>19800.0</td>\n",
       "      <td>NaN</td>\n",
       "      <td>81800.0</td>\n",
       "      <td>1138300</td>\n",
       "      <td>430500</td>\n",
       "      <td>536200.0</td>\n",
       "      <td>1207200</td>\n",
       "      <td>645600</td>\n",
       "      <td>783600</td>\n",
       "    </tr>\n",
       "    <tr>\n",
       "      <th>1</th>\n",
       "      <td>Alaska</td>\n",
       "      <td>364500</td>\n",
       "      <td>345600</td>\n",
       "      <td>153600</td>\n",
       "      <td>283800</td>\n",
       "      <td>433000</td>\n",
       "      <td>18000.0</td>\n",
       "      <td>47400</td>\n",
       "      <td>46600.0</td>\n",
       "      <td>95500.0</td>\n",
       "      <td>6300.0</td>\n",
       "      <td>63300.0</td>\n",
       "      <td>192300</td>\n",
       "      <td>63500</td>\n",
       "      <td>97900.0</td>\n",
       "      <td>183600</td>\n",
       "      <td>92400</td>\n",
       "      <td>80500</td>\n",
       "    </tr>\n",
       "    <tr>\n",
       "      <th>2</th>\n",
       "      <td>Arizona</td>\n",
       "      <td>3363200</td>\n",
       "      <td>3478100</td>\n",
       "      <td>1322700</td>\n",
       "      <td>2646700</td>\n",
       "      <td>3761600</td>\n",
       "      <td>270200.0</td>\n",
       "      <td>2143400</td>\n",
       "      <td>220300.0</td>\n",
       "      <td>261300.0</td>\n",
       "      <td>12500.0</td>\n",
       "      <td>172000.0</td>\n",
       "      <td>1686200</td>\n",
       "      <td>637200</td>\n",
       "      <td>815200.0</td>\n",
       "      <td>1677000</td>\n",
       "      <td>839900</td>\n",
       "      <td>1185700</td>\n",
       "    </tr>\n",
       "    <tr>\n",
       "      <th>3</th>\n",
       "      <td>Arkansas</td>\n",
       "      <td>1422700</td>\n",
       "      <td>1487200</td>\n",
       "      <td>602000</td>\n",
       "      <td>1096800</td>\n",
       "      <td>2109200</td>\n",
       "      <td>434100.0</td>\n",
       "      <td>220300</td>\n",
       "      <td>48100.0</td>\n",
       "      <td>13500.0</td>\n",
       "      <td>7300.0</td>\n",
       "      <td>77500.0</td>\n",
       "      <td>730600</td>\n",
       "      <td>265200</td>\n",
       "      <td>329800.0</td>\n",
       "      <td>726600</td>\n",
       "      <td>377100</td>\n",
       "      <td>480600</td>\n",
       "    </tr>\n",
       "    <tr>\n",
       "      <th>4</th>\n",
       "      <td>California</td>\n",
       "      <td>19113000</td>\n",
       "      <td>19600800</td>\n",
       "      <td>7955200</td>\n",
       "      <td>15981800</td>\n",
       "      <td>14305700</td>\n",
       "      <td>2061600.0</td>\n",
       "      <td>15194400</td>\n",
       "      <td>5598000.0</td>\n",
       "      <td>138100.0</td>\n",
       "      <td>122900.0</td>\n",
       "      <td>1293200.0</td>\n",
       "      <td>9363800</td>\n",
       "      <td>3697900</td>\n",
       "      <td>5240600.0</td>\n",
       "      <td>10277900</td>\n",
       "      <td>4720500</td>\n",
       "      <td>5413200</td>\n",
       "    </tr>\n",
       "  </tbody>\n",
       "</table>\n",
       "</div>"
      ],
      "text/plain": [
       "     Location      Male    Female  Adults_with_Children  \\\n",
       "0     Alabama   2284900   2456500                878300   \n",
       "1      Alaska    364500    345600                153600   \n",
       "2     Arizona   3363200   3478100               1322700   \n",
       "3    Arkansas   1422700   1487200                602000   \n",
       "4  California  19113000  19600800               7955200   \n",
       "\n",
       "   Adults_with_No_Children     White      Black  Hispanic      Asian  \\\n",
       "0                  1941300   3119100  1259900.0    195700    63800.0   \n",
       "1                   283800    433000    18000.0     47400    46600.0   \n",
       "2                  2646700   3761600   270200.0   2143400   220300.0   \n",
       "3                  1096800   2109200   434100.0    220300    48100.0   \n",
       "4                 15981800  14305700  2061600.0  15194400  5598000.0   \n",
       "\n",
       "   American_Indian_or_Alaska_Native  \\\n",
       "0                           19800.0   \n",
       "1                           95500.0   \n",
       "2                          261300.0   \n",
       "3                           13500.0   \n",
       "4                          138100.0   \n",
       "\n",
       "   Native_Hawaiian_or_Other_Pacific_Islander  Two_Or_More_Races  Age0_18  \\\n",
       "0                                        NaN            81800.0  1138300   \n",
       "1                                     6300.0            63300.0   192300   \n",
       "2                                    12500.0           172000.0  1686200   \n",
       "3                                     7300.0            77500.0   730600   \n",
       "4                                   122900.0          1293200.0  9363800   \n",
       "\n",
       "   Age_19_25  Age_26_34  Age_35_54  Age_55_64  Age_65_plus  \n",
       "0     430500   536200.0    1207200     645600       783600  \n",
       "1      63500    97900.0     183600      92400        80500  \n",
       "2     637200   815200.0    1677000     839900      1185700  \n",
       "3     265200   329800.0     726600     377100       480600  \n",
       "4    3697900  5240600.0   10277900    4720500      5413200  "
      ]
     },
     "execution_count": 4,
     "metadata": {},
     "output_type": "execute_result"
    }
   ],
   "source": [
    "df_demographics.head()"
   ]
  },
  {
   "cell_type": "code",
   "execution_count": 5,
   "metadata": {},
   "outputs": [
    {
     "data": {
      "text/html": [
       "<div>\n",
       "<style scoped>\n",
       "    .dataframe tbody tr th:only-of-type {\n",
       "        vertical-align: middle;\n",
       "    }\n",
       "\n",
       "    .dataframe tbody tr th {\n",
       "        vertical-align: top;\n",
       "    }\n",
       "\n",
       "    .dataframe thead th {\n",
       "        text-align: right;\n",
       "    }\n",
       "</style>\n",
       "<table border=\"1\" class=\"dataframe\">\n",
       "  <thead>\n",
       "    <tr style=\"text-align: right;\">\n",
       "      <th></th>\n",
       "      <th>Location</th>\n",
       "      <th>Male</th>\n",
       "      <th>Female</th>\n",
       "      <th>Adults_with_Children</th>\n",
       "      <th>Adults_with_No_Children</th>\n",
       "      <th>White</th>\n",
       "      <th>Black</th>\n",
       "      <th>Hispanic</th>\n",
       "      <th>Asian</th>\n",
       "      <th>American_Indian_or_Alaska_Native</th>\n",
       "      <th>Native_Hawaiian_or_Other_Pacific_Islander</th>\n",
       "      <th>Two_Or_More_Races</th>\n",
       "      <th>Age0_18</th>\n",
       "      <th>Age_19_25</th>\n",
       "      <th>Age_26_34</th>\n",
       "      <th>Age_35_54</th>\n",
       "      <th>Age_55_64</th>\n",
       "      <th>Age_65_plus</th>\n",
       "    </tr>\n",
       "  </thead>\n",
       "  <tbody>\n",
       "    <tr>\n",
       "      <th>47</th>\n",
       "      <td>Washington</td>\n",
       "      <td>3589700</td>\n",
       "      <td>3650100</td>\n",
       "      <td>1522400</td>\n",
       "      <td>2920700</td>\n",
       "      <td>4976100</td>\n",
       "      <td>246900.0</td>\n",
       "      <td>916000</td>\n",
       "      <td>617900.0</td>\n",
       "      <td>68600.0</td>\n",
       "      <td>42200.0</td>\n",
       "      <td>372200.0</td>\n",
       "      <td>1701700</td>\n",
       "      <td>628700</td>\n",
       "      <td>965900.0</td>\n",
       "      <td>1899400</td>\n",
       "      <td>949100</td>\n",
       "      <td>1095000</td>\n",
       "    </tr>\n",
       "    <tr>\n",
       "      <th>48</th>\n",
       "      <td>West Virginia</td>\n",
       "      <td>863400</td>\n",
       "      <td>898700</td>\n",
       "      <td>322100</td>\n",
       "      <td>714100</td>\n",
       "      <td>1631600</td>\n",
       "      <td>64300.0</td>\n",
       "      <td>20400</td>\n",
       "      <td>14200.0</td>\n",
       "      <td>2000.0</td>\n",
       "      <td>NaN</td>\n",
       "      <td>28800.0</td>\n",
       "      <td>385000</td>\n",
       "      <td>148600</td>\n",
       "      <td>178300.0</td>\n",
       "      <td>448700</td>\n",
       "      <td>260600</td>\n",
       "      <td>340900</td>\n",
       "    </tr>\n",
       "    <tr>\n",
       "      <th>49</th>\n",
       "      <td>Wisconsin</td>\n",
       "      <td>2792400</td>\n",
       "      <td>2850600</td>\n",
       "      <td>1161900</td>\n",
       "      <td>2230900</td>\n",
       "      <td>4600500</td>\n",
       "      <td>328100.0</td>\n",
       "      <td>382000</td>\n",
       "      <td>166800.0</td>\n",
       "      <td>43500.0</td>\n",
       "      <td>NaN</td>\n",
       "      <td>120600.0</td>\n",
       "      <td>1319600</td>\n",
       "      <td>495600</td>\n",
       "      <td>643300.0</td>\n",
       "      <td>1441400</td>\n",
       "      <td>812500</td>\n",
       "      <td>930500</td>\n",
       "    </tr>\n",
       "    <tr>\n",
       "      <th>50</th>\n",
       "      <td>Wyoming</td>\n",
       "      <td>286600</td>\n",
       "      <td>276700</td>\n",
       "      <td>118200</td>\n",
       "      <td>214300</td>\n",
       "      <td>474400</td>\n",
       "      <td>5300.0</td>\n",
       "      <td>56100</td>\n",
       "      <td>4200.0</td>\n",
       "      <td>12100.0</td>\n",
       "      <td>NaN</td>\n",
       "      <td>11200.0</td>\n",
       "      <td>142400</td>\n",
       "      <td>48500</td>\n",
       "      <td>69400.0</td>\n",
       "      <td>133100</td>\n",
       "      <td>81500</td>\n",
       "      <td>88300</td>\n",
       "    </tr>\n",
       "    <tr>\n",
       "      <th>51</th>\n",
       "      <td>Puerto Rico</td>\n",
       "      <td>1570300</td>\n",
       "      <td>1734500</td>\n",
       "      <td>543200</td>\n",
       "      <td>1406500</td>\n",
       "      <td>23000</td>\n",
       "      <td>NaN</td>\n",
       "      <td>3274500</td>\n",
       "      <td>NaN</td>\n",
       "      <td>NaN</td>\n",
       "      <td>NaN</td>\n",
       "      <td>NaN</td>\n",
       "      <td>701800</td>\n",
       "      <td>327600</td>\n",
       "      <td>344300.0</td>\n",
       "      <td>849600</td>\n",
       "      <td>428200</td>\n",
       "      <td>653200</td>\n",
       "    </tr>\n",
       "  </tbody>\n",
       "</table>\n",
       "</div>"
      ],
      "text/plain": [
       "         Location     Male   Female  Adults_with_Children  \\\n",
       "47     Washington  3589700  3650100               1522400   \n",
       "48  West Virginia   863400   898700                322100   \n",
       "49      Wisconsin  2792400  2850600               1161900   \n",
       "50        Wyoming   286600   276700                118200   \n",
       "51    Puerto Rico  1570300  1734500                543200   \n",
       "\n",
       "    Adults_with_No_Children    White     Black  Hispanic     Asian  \\\n",
       "47                  2920700  4976100  246900.0    916000  617900.0   \n",
       "48                   714100  1631600   64300.0     20400   14200.0   \n",
       "49                  2230900  4600500  328100.0    382000  166800.0   \n",
       "50                   214300   474400    5300.0     56100    4200.0   \n",
       "51                  1406500    23000       NaN   3274500       NaN   \n",
       "\n",
       "    American_Indian_or_Alaska_Native  \\\n",
       "47                           68600.0   \n",
       "48                            2000.0   \n",
       "49                           43500.0   \n",
       "50                           12100.0   \n",
       "51                               NaN   \n",
       "\n",
       "    Native_Hawaiian_or_Other_Pacific_Islander  Two_Or_More_Races  Age0_18  \\\n",
       "47                                    42200.0           372200.0  1701700   \n",
       "48                                        NaN            28800.0   385000   \n",
       "49                                        NaN           120600.0  1319600   \n",
       "50                                        NaN            11200.0   142400   \n",
       "51                                        NaN                NaN   701800   \n",
       "\n",
       "    Age_19_25  Age_26_34  Age_35_54  Age_55_64  Age_65_plus  \n",
       "47     628700   965900.0    1899400     949100      1095000  \n",
       "48     148600   178300.0     448700     260600       340900  \n",
       "49     495600   643300.0    1441400     812500       930500  \n",
       "50      48500    69400.0     133100      81500        88300  \n",
       "51     327600   344300.0     849600     428200       653200  "
      ]
     },
     "execution_count": 5,
     "metadata": {},
     "output_type": "execute_result"
    }
   ],
   "source": [
    "df_demographics.tail()"
   ]
  },
  {
   "cell_type": "markdown",
   "metadata": {},
   "source": [
    "__A3.__ _(5 points)_ As you can see, there is no `total` population column in this dataframe for each location. Therefore, create a new column which shows the summation of `Male` and `Female` populations. \n",
    "\n",
    "The `pandas` package provides a `.describe()` method which gives a descriptive summary of the desired column(s) (such as mean, standard deviation, min, and max values). Print these statistics for the column `total` which you just created. Then, compare the average population of locations obtained from `.describe()` method with the output of the `mean` method of `numpy` package. Are they the same?"
   ]
  },
  {
   "cell_type": "code",
   "execution_count": 6,
   "metadata": {},
   "outputs": [
    {
     "data": {
      "text/plain": [
       "count    5.200000e+01\n",
       "mean     6.160138e+06\n",
       "std      7.092525e+06\n",
       "min      5.633000e+05\n",
       "25%      1.742100e+06\n",
       "50%      4.185050e+06\n",
       "75%      6.940925e+06\n",
       "max      3.871380e+07\n",
       "Name: Total, dtype: float64"
      ]
     },
     "execution_count": 6,
     "metadata": {},
     "output_type": "execute_result"
    }
   ],
   "source": [
    "df_demographics['Total'] = df_demographics['Male'] + df_demographics['Female']\n",
    "df_demographics['Total'].describe()"
   ]
  },
  {
   "cell_type": "markdown",
   "metadata": {},
   "source": [
    "__A4:__ _(5 points)_ Find the locations with the minimum and maximum populations."
   ]
  },
  {
   "cell_type": "code",
   "execution_count": 7,
   "metadata": {},
   "outputs": [
    {
     "data": {
      "text/plain": [
       "'California'"
      ]
     },
     "execution_count": 7,
     "metadata": {},
     "output_type": "execute_result"
    }
   ],
   "source": [
    "df_demographics['Location'][df_demographics['Total'].idxmax()]"
   ]
  },
  {
   "cell_type": "code",
   "execution_count": 8,
   "metadata": {},
   "outputs": [
    {
     "data": {
      "text/plain": [
       "'Wyoming'"
      ]
     },
     "execution_count": 8,
     "metadata": {},
     "output_type": "execute_result"
    }
   ],
   "source": [
    "df_demographics['Location'][df_demographics['Total'].idxmin()]"
   ]
  },
  {
   "cell_type": "markdown",
   "metadata": {},
   "source": [
    "__A5.__ _(5 points)_ In this part, we are looking at two columns, `Adults_with_Children` and `Adults_with_No_Children`. \n",
    "It seems that the populations in these two columns do not include the children (aged younger than 18 years), and older adults (aged older than 64 years). Confirm this hypothesis for `Pennsylvania`, `Colorado`, and `Georgia` that summation of these two columns equal the summation of the population of all age-groups when two `Age0_18` and `Age_65_plus` columns are excluded (For doing that, you may create a new column `total_adults_age_groups` and compare that with the summation of `Adults_with_Children` and `Adults_with_No_Children`). "
   ]
  },
  {
   "cell_type": "code",
   "execution_count": 9,
   "metadata": {},
   "outputs": [
    {
     "data": {
      "text/plain": [
       "5     0.0\n",
       "10    0.0\n",
       "38    0.0\n",
       "Name: Hypo_diff, dtype: float64"
      ]
     },
     "execution_count": 9,
     "metadata": {},
     "output_type": "execute_result"
    }
   ],
   "source": [
    "df_demographics['total_adults_age_groups'] = df_demographics[\n",
    "    'Age_19_25'] + df_demographics['Age_26_34'] + df_demographics['Age_35_54'] + df_demographics['Age_55_64']\n",
    "df_demographics['Hypo_diff'] = df_demographics['Adults_with_No_Children'] + df_demographics[\n",
    "    'Adults_with_Children'] - df_demographics['total_adults_age_groups']\n",
    "df_demographics[[\n",
    "    location == 'Pennsylvania' or location == 'Colorado' or location == 'Georgia' for location in df_demographics[\n",
    "        'Location']]]['Hypo_diff']"
   ]
  },
  {
   "cell_type": "markdown",
   "metadata": {},
   "source": [
    "<font color=blue>Which verifies the hypothesis for these three states. Although this is not true for all the states.</font>"
   ]
  },
  {
   "cell_type": "markdown",
   "metadata": {},
   "source": [
    "__A6:__ _(2 points)_ It seems that our hypothesis is correct for these three states. To make sure, we need to confirm that the differences between total_adults_age_groups column and summation of Adults_with_Children and Adults_with_No_Children for all the locations are zero. You can do that by looking in all the states' differences. Instead of that, create a logical rule (boolean mask) to return `False` if there is at least one non-zero value in the difference between `total_adults_age_groups` column and summation of `Adults_with_Children` and `Adults_with_No_Children`."
   ]
  },
  {
   "cell_type": "code",
   "execution_count": 10,
   "metadata": {},
   "outputs": [
    {
     "data": {
      "text/plain": [
       "False"
      ]
     },
     "execution_count": 10,
     "metadata": {},
     "output_type": "execute_result"
    }
   ],
   "source": [
    "df_demographics['total_adults_age_groups'].equals(\n",
    "    df_demographics['Adults_with_Children'] + df_demographics['Adults_with_No_Children'])"
   ]
  },
  {
   "cell_type": "code",
   "execution_count": 11,
   "metadata": {},
   "outputs": [
    {
     "data": {
      "text/plain": [
       "0            Alabama\n",
       "2            Arizona\n",
       "3           Arkansas\n",
       "4         California\n",
       "7           Delaware\n",
       "9            Florida\n",
       "12             Idaho\n",
       "13          Illinois\n",
       "15              Iowa\n",
       "16            Kansas\n",
       "17          Kentucky\n",
       "18         Louisiana\n",
       "23         Minnesota\n",
       "26           Montana\n",
       "27          Nebraska\n",
       "31        New Mexico\n",
       "33    North Carolina\n",
       "34      North Dakota\n",
       "36          Oklahoma\n",
       "37            Oregon\n",
       "40    South Carolina\n",
       "44              Utah\n",
       "45           Vermont\n",
       "46          Virginia\n",
       "Name: Location, dtype: object"
      ]
     },
     "execution_count": 11,
     "metadata": {},
     "output_type": "execute_result"
    }
   ],
   "source": [
    "df_demographics[[diff!=0.0 for diff in df_demographics['Hypo_diff']]]['Location']"
   ]
  },
  {
   "cell_type": "markdown",
   "metadata": {},
   "source": [
    "__A7:__ _(3 points)_ It seems that our hypothesis is not correct for all the locations. We need to know what are the locations and the exact differences to see if it is due to rounding or there is a really significant difference. Create a dictionary and store locations (as `keys`) and the amount of difference between the population of adults obtained using the summation of two `Adults_with_Children` and `Adults_with_No_Children` columns and those obtained using the population of `Age_19_25`, `Age_26_34`, `Age_35_54`, `Age_55_64` age-groups (as `values`). "
   ]
  },
  {
   "cell_type": "code",
   "execution_count": 12,
   "metadata": {},
   "outputs": [
    {
     "data": {
      "text/plain": [
       "{'Alabama': [100.0],\n",
       " 'Alaska': [0.0],\n",
       " 'Arizona': [100.0],\n",
       " 'Arkansas': [100.0],\n",
       " 'California': [100.0],\n",
       " 'Colorado': [0.0],\n",
       " 'Connecticut': [0.0],\n",
       " 'Delaware': [100.0],\n",
       " 'District of Columbia': [0.0],\n",
       " 'Florida': [100.0],\n",
       " 'Georgia': [0.0],\n",
       " 'Hawaii': [0.0],\n",
       " 'Idaho': [-100.0],\n",
       " 'Illinois': [-100.0],\n",
       " 'Indiana': [0.0],\n",
       " 'Iowa': [-100.0],\n",
       " 'Kansas': [100.0],\n",
       " 'Kentucky': [100.0],\n",
       " 'Louisiana': [100.0],\n",
       " 'Maine': [0.0],\n",
       " 'Maryland': [0.0],\n",
       " 'Massachusetts': [0.0],\n",
       " 'Michigan': [0.0],\n",
       " 'Minnesota': [100.0],\n",
       " 'Mississippi': [0.0],\n",
       " 'Missouri': [0.0],\n",
       " 'Montana': [-100.0],\n",
       " 'Nebraska': [100.0],\n",
       " 'Nevada': [0.0],\n",
       " 'New Hampshire': [0.0],\n",
       " 'New Jersey': [0.0],\n",
       " 'New Mexico': [-100.0],\n",
       " 'New York': [0.0],\n",
       " 'North Carolina': [200.0],\n",
       " 'North Dakota': [100.0],\n",
       " 'Ohio': [0.0],\n",
       " 'Oklahoma': [-100.0],\n",
       " 'Oregon': [-100.0],\n",
       " 'Pennsylvania': [0.0],\n",
       " 'Rhode Island': [0.0],\n",
       " 'South Carolina': [100.0],\n",
       " 'South Dakota': [0.0],\n",
       " 'Tennessee': [0.0],\n",
       " 'Texas': [0.0],\n",
       " 'Utah': [100.0],\n",
       " 'Vermont': [-100.0],\n",
       " 'Virginia': [200.0],\n",
       " 'Washington': [0.0],\n",
       " 'West Virginia': [0.0],\n",
       " 'Wisconsin': [0.0],\n",
       " 'Wyoming': [0.0],\n",
       " 'Puerto Rico': [0.0]}"
      ]
     },
     "execution_count": 12,
     "metadata": {},
     "output_type": "execute_result"
    }
   ],
   "source": [
    "df_for_dict = df_demographics[['Location', 'Hypo_diff']]\n",
    "df_for_dict.set_index('Location').T.to_dict('list')"
   ]
  },
  {
   "cell_type": "markdown",
   "metadata": {},
   "source": [
    "__A8.__ _(7 points)_ In this part, we are going to find the similarity of locations based on their races population distributions using _cosine similarity_. In cases where there is no population of one race for a location in the dataframe (the corresponding value is `NaN`), replace them with `zero` using the `.fillna()` method of `pandas`. Then, create a list and append to that each pair of locations with their similarity as a tuple, like: `(loc1, loc2, similarity value)`.\n"
   ]
  },
  {
   "cell_type": "code",
   "execution_count": 13,
   "metadata": {},
   "outputs": [
    {
     "data": {
      "text/plain": [
       "Location                                     False\n",
       "Male                                         False\n",
       "Female                                       False\n",
       "Adults_with_Children                         False\n",
       "Adults_with_No_Children                      False\n",
       "White                                        False\n",
       "Black                                         True\n",
       "Hispanic                                     False\n",
       "Asian                                         True\n",
       "American_Indian_or_Alaska_Native              True\n",
       "Native_Hawaiian_or_Other_Pacific_Islander     True\n",
       "Two_Or_More_Races                             True\n",
       "Age0_18                                      False\n",
       "Age_19_25                                    False\n",
       "Age_26_34                                    False\n",
       "Age_35_54                                    False\n",
       "Age_55_64                                    False\n",
       "Age_65_plus                                  False\n",
       "Total                                        False\n",
       "total_adults_age_groups                      False\n",
       "Hypo_diff                                    False\n",
       "dtype: bool"
      ]
     },
     "execution_count": 13,
     "metadata": {},
     "output_type": "execute_result"
    }
   ],
   "source": [
    "df_demographics.isnull().any()"
   ]
  },
  {
   "cell_type": "markdown",
   "metadata": {},
   "source": [
    "<font color=blue>We can see that only the columns related to race have missing values, so we can use .fillna() easily.</font>"
   ]
  },
  {
   "cell_type": "code",
   "execution_count": 14,
   "metadata": {},
   "outputs": [
    {
     "data": {
      "text/plain": [
       "Location                                     False\n",
       "Male                                         False\n",
       "Female                                       False\n",
       "Adults_with_Children                         False\n",
       "Adults_with_No_Children                      False\n",
       "White                                        False\n",
       "Black                                        False\n",
       "Hispanic                                     False\n",
       "Asian                                        False\n",
       "American_Indian_or_Alaska_Native             False\n",
       "Native_Hawaiian_or_Other_Pacific_Islander    False\n",
       "Two_Or_More_Races                            False\n",
       "Age0_18                                      False\n",
       "Age_19_25                                    False\n",
       "Age_26_34                                    False\n",
       "Age_35_54                                    False\n",
       "Age_55_64                                    False\n",
       "Age_65_plus                                  False\n",
       "Total                                        False\n",
       "total_adults_age_groups                      False\n",
       "Hypo_diff                                    False\n",
       "dtype: bool"
      ]
     },
     "execution_count": 14,
     "metadata": {},
     "output_type": "execute_result"
    }
   ],
   "source": [
    "df_demographics = df_demographics.fillna(value = 0)\n",
    "df_demographics.isnull().any()"
   ]
  },
  {
   "cell_type": "markdown",
   "metadata": {},
   "source": [
    "__A9.__ _(3 points)_ What are the two most and two least similar locations based on their races population?"
   ]
  },
  {
   "cell_type": "code",
   "execution_count": 41,
   "metadata": {},
   "outputs": [],
   "source": [
    "dftest = df_demographics.loc[:, \"White\":\"Native_Hawaiian_or_Other_Pacific_Islander\"]"
   ]
  },
  {
   "cell_type": "code",
   "execution_count": 42,
   "metadata": {},
   "outputs": [],
   "source": [
    "from sklearn.metrics.pairwise import cosine_similarity\n",
    "sim = cosine_similarity(dftest)"
   ]
  },
  {
   "cell_type": "code",
   "execution_count": 43,
   "metadata": {},
   "outputs": [
    {
     "data": {
      "text/plain": [
       "array([[1.        , 0.91729666, 0.85317378, ..., 0.95134596, 0.92995424,\n",
       "        0.06456499],\n",
       "       [0.91729666, 1.        , 0.9067029 , ..., 0.97576671, 0.97693181,\n",
       "        0.11239732],\n",
       "       [0.85317378, 0.9067029 , 1.        , ..., 0.90616774, 0.91861269,\n",
       "        0.49864871],\n",
       "       ...,\n",
       "       [0.95134596, 0.97576671, 0.90616774, ..., 1.        , 0.99710776,\n",
       "        0.08945949],\n",
       "       [0.92995424, 0.97693181, 0.91861269, ..., 0.99710776, 1.        ,\n",
       "        0.12435632],\n",
       "       [0.06456499, 0.11239732, 0.49864871, ..., 0.08945949, 0.12435632,\n",
       "        1.        ]])"
      ]
     },
     "execution_count": 43,
     "metadata": {},
     "output_type": "execute_result"
    }
   ],
   "source": [
    "sim"
   ]
  },
  {
   "cell_type": "code",
   "execution_count": 61,
   "metadata": {},
   "outputs": [
    {
     "name": "stdout",
     "output_type": "stream",
     "text": [
      "Most similar states are Missouri and Ohio with simlarity of 0.9999094979355956\n",
      "Most similar states are Kansas and Nebraska with simlarity of 0.9997223184821147\n",
      "Least similar states are West Virginia and Puerto Rico with simlarity of 0.019509135645946696\n",
      "Least similar states are Maine and Puerto Rico with simlarity of 0.023929028243359605\n"
     ]
    }
   ],
   "source": [
    "from collections import defaultdict\n",
    "d = defaultdict(list)\n",
    "for i in range(len(sim)):\n",
    "    for j in range(len(sim[i])):\n",
    "      d[sim[i][j]].append((i,j))\n",
    "\n",
    "for value in sorted(d.keys(), reverse=True)[5:7]:\n",
    "    print(\n",
    "        \"Most similar states are \"+str(\n",
    "            df_demographics['Location'][d[value][0][0]])+\" and \"+str(\n",
    "            df_demographics['Location'][d[value][0][1]])+\" with simlarity of \"+str(value))\n",
    "for value in sorted(d.keys(), reverse=False)[0:2]:\n",
    "    print(\n",
    "        \"Least similar states are \"+str(\n",
    "            df_demographics['Location'][d[value][0][0]])+\" and \"+str(\n",
    "            df_demographics['Location'][d[value][0][1]])+\" with simlarity of \"+str(value))"
   ]
  },
  {
   "cell_type": "code",
   "execution_count": null,
   "metadata": {},
   "outputs": [],
   "source": []
  }
 ],
 "metadata": {
  "kernelspec": {
   "display_name": "Python 3",
   "language": "python",
   "name": "python3"
  },
  "language_info": {
   "codemirror_mode": {
    "name": "ipython",
    "version": 3
   },
   "file_extension": ".py",
   "mimetype": "text/x-python",
   "name": "python",
   "nbconvert_exporter": "python",
   "pygments_lexer": "ipython3",
   "version": "3.6.5"
  }
 },
 "nbformat": 4,
 "nbformat_minor": 2
}
